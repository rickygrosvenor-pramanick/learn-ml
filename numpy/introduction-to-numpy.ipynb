{
 "cells": [
  {
   "cell_type": "code",
   "execution_count": 2,
   "id": "ca718091-529f-42af-a04e-ee30d395c619",
   "metadata": {},
   "outputs": [],
   "source": [
    "import numpy as np"
   ]
  },
  {
   "cell_type": "markdown",
   "id": "73cafa4d-3c53-4451-b32c-833dab68eecf",
   "metadata": {},
   "source": [
    "## Datatypes & Attributes"
   ]
  },
  {
   "cell_type": "code",
   "execution_count": 3,
   "id": "781450da-4d8c-4b88-89c2-3df073c6404f",
   "metadata": {},
   "outputs": [
    {
     "data": {
      "text/plain": [
       "array([1, 2, 3])"
      ]
     },
     "execution_count": 3,
     "metadata": {},
     "output_type": "execute_result"
    }
   ],
   "source": [
    "# Numpy's main datatype is a ndarray - n dimensional array\n",
    "a1 = np.array([1, 2, 3])\n",
    "a1"
   ]
  },
  {
   "cell_type": "code",
   "execution_count": 4,
   "id": "0aa23935-559b-4f82-8f09-351cd5a78564",
   "metadata": {},
   "outputs": [
    {
     "data": {
      "text/plain": [
       "numpy.ndarray"
      ]
     },
     "execution_count": 4,
     "metadata": {},
     "output_type": "execute_result"
    }
   ],
   "source": [
    "type(a1)"
   ]
  },
  {
   "cell_type": "code",
   "execution_count": 6,
   "id": "49806a7c-2d08-4a13-a9cf-42296017a6eb",
   "metadata": {},
   "outputs": [],
   "source": [
    "a2 = np.array([[1, 2.0, 3.3], [4, 5, 6.5]])\n",
    "\n",
    "a3 = np.array([[[x for x in range(1, 4)],\n",
    "               [x for x in range(4, 7)],\n",
    "               [x for x in range (7, 10)]],\n",
    "               [[x for x in range (10, 13)],\n",
    "                [x for x in range (13, 16)],\n",
    "                [x for x in range (16, 19)]]])"
   ]
  },
  {
   "cell_type": "code",
   "execution_count": 7,
   "id": "bb24bb35-f281-4f47-9a3f-fe7f2aed0771",
   "metadata": {},
   "outputs": [
    {
     "data": {
      "text/plain": [
       "array([[1. , 2. , 3.3],\n",
       "       [4. , 5. , 6.5]])"
      ]
     },
     "execution_count": 7,
     "metadata": {},
     "output_type": "execute_result"
    }
   ],
   "source": [
    "a2"
   ]
  },
  {
   "cell_type": "code",
   "execution_count": 8,
   "id": "cc7c2eab-e452-4214-b265-986c5f8fe5d2",
   "metadata": {},
   "outputs": [
    {
     "data": {
      "text/plain": [
       "array([[[ 1,  2,  3],\n",
       "        [ 4,  5,  6],\n",
       "        [ 7,  8,  9]],\n",
       "\n",
       "       [[10, 11, 12],\n",
       "        [13, 14, 15],\n",
       "        [16, 17, 18]]])"
      ]
     },
     "execution_count": 8,
     "metadata": {},
     "output_type": "execute_result"
    }
   ],
   "source": [
    "a3"
   ]
  },
  {
   "cell_type": "code",
   "execution_count": 9,
   "id": "0884a157-8357-498b-acd2-c919f2ed8167",
   "metadata": {},
   "outputs": [
    {
     "data": {
      "text/plain": [
       "(3,)"
      ]
     },
     "execution_count": 9,
     "metadata": {},
     "output_type": "execute_result"
    }
   ],
   "source": [
    "a1.shape"
   ]
  },
  {
   "cell_type": "code",
   "execution_count": 10,
   "id": "4f4fefcc-80f3-4bb0-af4f-a05fbfddd74f",
   "metadata": {},
   "outputs": [
    {
     "data": {
      "text/plain": [
       "(2, 3)"
      ]
     },
     "execution_count": 10,
     "metadata": {},
     "output_type": "execute_result"
    }
   ],
   "source": [
    "a2.shape"
   ]
  },
  {
   "cell_type": "code",
   "execution_count": 11,
   "id": "58fa1684-143f-47ec-988c-232333b7152d",
   "metadata": {},
   "outputs": [
    {
     "data": {
      "text/plain": [
       "(2, 3, 3)"
      ]
     },
     "execution_count": 11,
     "metadata": {},
     "output_type": "execute_result"
    }
   ],
   "source": [
    "a3.shape"
   ]
  },
  {
   "cell_type": "code",
   "execution_count": 12,
   "id": "85314194-1514-4f4e-ad4a-629b1432a52d",
   "metadata": {},
   "outputs": [
    {
     "data": {
      "text/plain": [
       "(1, 2, 3)"
      ]
     },
     "execution_count": 12,
     "metadata": {},
     "output_type": "execute_result"
    }
   ],
   "source": [
    "(a1.ndim, a2.ndim, a3.ndim)"
   ]
  },
  {
   "cell_type": "code",
   "execution_count": 13,
   "id": "8674cdb6-4538-4ea7-8d50-7332b7c580c7",
   "metadata": {},
   "outputs": [
    {
     "data": {
      "text/plain": [
       "(dtype('int64'), dtype('float64'), dtype('int64'))"
      ]
     },
     "execution_count": 13,
     "metadata": {},
     "output_type": "execute_result"
    }
   ],
   "source": [
    "(a1.dtype, a2.dtype, a3.dtype)"
   ]
  },
  {
   "cell_type": "code",
   "execution_count": 14,
   "id": "8be29ce0-0ae2-4169-adba-8edeab91a356",
   "metadata": {},
   "outputs": [
    {
     "data": {
      "text/plain": [
       "(3, 6, 18)"
      ]
     },
     "execution_count": 14,
     "metadata": {},
     "output_type": "execute_result"
    }
   ],
   "source": [
    "(a1.size, a2.size, a3.size)"
   ]
  },
  {
   "cell_type": "code",
   "execution_count": 15,
   "id": "f61cdde4-22c5-46a5-b4b8-cf171cd83feb",
   "metadata": {},
   "outputs": [
    {
     "data": {
      "text/plain": [
       "(numpy.ndarray, numpy.ndarray, numpy.ndarray)"
      ]
     },
     "execution_count": 15,
     "metadata": {},
     "output_type": "execute_result"
    }
   ],
   "source": [
    "(type(a1), type(a2), type(a3))"
   ]
  },
  {
   "cell_type": "markdown",
   "id": "ff11152d-4b80-4425-b2b6-69baa24eef97",
   "metadata": {},
   "source": [
    "## 2. Creating Arrays"
   ]
  },
  {
   "cell_type": "code",
   "execution_count": 16,
   "id": "e1b7848a-46a2-4302-ac37-5b076754bb7b",
   "metadata": {},
   "outputs": [
    {
     "data": {
      "text/plain": [
       "array([1, 2, 3])"
      ]
     },
     "execution_count": 16,
     "metadata": {},
     "output_type": "execute_result"
    }
   ],
   "source": [
    "sample_array = np.array([1, 2, 3])\n",
    "sample_array"
   ]
  },
  {
   "cell_type": "code",
   "execution_count": 18,
   "id": "a3225cf7-a788-4bdd-a2f2-810b8bb36885",
   "metadata": {},
   "outputs": [
    {
     "data": {
      "text/plain": [
       "array([[[1., 1., 1.],\n",
       "        [1., 1., 1.],\n",
       "        [1., 1., 1.]],\n",
       "\n",
       "       [[1., 1., 1.],\n",
       "        [1., 1., 1.],\n",
       "        [1., 1., 1.]]])"
      ]
     },
     "execution_count": 18,
     "metadata": {},
     "output_type": "execute_result"
    }
   ],
   "source": [
    "ones = np.ones((2, 3, 3))\n",
    "ones"
   ]
  },
  {
   "cell_type": "code",
   "execution_count": 20,
   "id": "5a4c659e-db96-435d-bedf-f8c9173f221e",
   "metadata": {},
   "outputs": [
    {
     "data": {
      "text/plain": [
       "array([[[0, 0, 0],\n",
       "        [0, 0, 0]],\n",
       "\n",
       "       [[0, 0, 0],\n",
       "        [0, 0, 0]],\n",
       "\n",
       "       [[0, 0, 0],\n",
       "        [0, 0, 0]]])"
      ]
     },
     "execution_count": 20,
     "metadata": {},
     "output_type": "execute_result"
    }
   ],
   "source": [
    "zeros = np.zeros((3, 2, 3), dtype=int)\n",
    "zeros"
   ]
  },
  {
   "cell_type": "code",
   "execution_count": 21,
   "id": "78f3e4b1-5e90-4b06-9580-7e5201cab153",
   "metadata": {},
   "outputs": [
    {
     "data": {
      "text/plain": [
       "array([0, 2, 4, 6, 8])"
      ]
     },
     "execution_count": 21,
     "metadata": {},
     "output_type": "execute_result"
    }
   ],
   "source": [
    "range_array = np.arange(0, 10, 2)\n",
    "range_array"
   ]
  },
  {
   "cell_type": "code",
   "execution_count": 23,
   "id": "81d66d9b-4ab2-4e2d-9e70-aaea3584876b",
   "metadata": {},
   "outputs": [
    {
     "data": {
      "text/plain": [
       "array([[[ 8,  9, 10,  4],\n",
       "        [ 6,  7, 15,  9]],\n",
       "\n",
       "       [[ 4, 13,  5,  9],\n",
       "        [11, 15,  6, 10]],\n",
       "\n",
       "       [[10,  4, 14,  5],\n",
       "        [ 5, 14,  4,  9]]])"
      ]
     },
     "execution_count": 23,
     "metadata": {},
     "output_type": "execute_result"
    }
   ],
   "source": [
    "random_array = np.random.randint(low=4, high=17, size=(3, 2, 4))\n",
    "random_array"
   ]
  },
  {
   "cell_type": "code",
   "execution_count": 24,
   "id": "e629ed85-d373-454e-b27f-3408fc2c50ac",
   "metadata": {},
   "outputs": [
    {
     "data": {
      "text/plain": [
       "24"
      ]
     },
     "execution_count": 24,
     "metadata": {},
     "output_type": "execute_result"
    }
   ],
   "source": [
    "random_array.size"
   ]
  },
  {
   "cell_type": "code",
   "execution_count": 28,
   "id": "e50dd511-ba78-4468-b00d-2cbe356e421c",
   "metadata": {},
   "outputs": [
    {
     "data": {
      "text/plain": [
       "array([[[0.95574569, 0.63478148, 0.41925012, 0.36438244],\n",
       "        [0.67461144, 0.00963563, 0.23607259, 0.44840239]],\n",
       "\n",
       "       [[0.87990964, 0.8909569 , 0.78664684, 0.1251247 ],\n",
       "        [0.145218  , 0.59580387, 0.86927526, 0.17155028]],\n",
       "\n",
       "       [[0.51956525, 0.40640494, 0.8111319 , 0.93648555],\n",
       "        [0.71476567, 0.0316983 , 0.11854063, 0.59121593]]])"
      ]
     },
     "execution_count": 28,
     "metadata": {},
     "output_type": "execute_result"
    }
   ],
   "source": [
    "random_array_2 = np.random.random(size=(3, 2, 4))\n",
    "random_array_2"
   ]
  },
  {
   "cell_type": "code",
   "execution_count": 32,
   "id": "9fd02dfe-c52e-4f94-985e-0f3c42151d63",
   "metadata": {},
   "outputs": [
    {
     "data": {
      "text/plain": [
       "array([[[0.813378  , 0.11946188, 0.83575442, 0.97812053],\n",
       "        [0.23211784, 0.26877562, 0.39770778, 0.90535586]],\n",
       "\n",
       "       [[0.06387306, 0.45119255, 0.4155699 , 0.24427336],\n",
       "        [0.99931006, 0.75040665, 0.78687022, 0.46036592]],\n",
       "\n",
       "       [[0.58301515, 0.57737343, 0.59569376, 0.54053128],\n",
       "        [0.20800749, 0.3964929 , 0.24332759, 0.44117021]]])"
      ]
     },
     "execution_count": 32,
     "metadata": {},
     "output_type": "execute_result"
    }
   ],
   "source": [
    "random_array_3 = np.random.rand(3, 2, 4)\n",
    "random_array_3"
   ]
  },
  {
   "cell_type": "code",
   "execution_count": 38,
   "id": "14e766b2-6614-441c-8f21-0a341a5ddb00",
   "metadata": {},
   "outputs": [
    {
     "data": {
      "text/plain": [
       "array([[5, 0, 3],\n",
       "       [3, 7, 9],\n",
       "       [3, 5, 2],\n",
       "       [4, 7, 6],\n",
       "       [8, 8, 1]])"
      ]
     },
     "execution_count": 38,
     "metadata": {},
     "output_type": "execute_result"
    }
   ],
   "source": [
    "# Pseudo-random numbers - helps produce random numbers which are reproduceable\n",
    "np.random.seed(seed=0)\n",
    "random_array_4 = np.random.randint(10, size=(5, 3))\n",
    "random_array_4"
   ]
  },
  {
   "cell_type": "markdown",
   "id": "f583bdfb-cec4-4cce-a06b-874e9bb9c670",
   "metadata": {},
   "source": [
    "## 3. Viewing Arrays and Matrices"
   ]
  },
  {
   "cell_type": "code",
   "execution_count": 40,
   "id": "babd462f-5911-46fa-8c73-8de7e026d5e6",
   "metadata": {},
   "outputs": [
    {
     "data": {
      "text/plain": [
       "array([0, 1, 2, 3, 4, 5, 6, 7, 8, 9])"
      ]
     },
     "execution_count": 40,
     "metadata": {},
     "output_type": "execute_result"
    }
   ],
   "source": [
    "# Finds all the unique items in an array\n",
    "np.unique(random_array_4)"
   ]
  },
  {
   "cell_type": "code",
   "execution_count": 41,
   "id": "75ed0392-3619-4a74-9178-d3e4a4d580ea",
   "metadata": {},
   "outputs": [
    {
     "data": {
      "text/plain": [
       "1"
      ]
     },
     "execution_count": 41,
     "metadata": {},
     "output_type": "execute_result"
    }
   ],
   "source": [
    "a1[0]"
   ]
  },
  {
   "cell_type": "code",
   "execution_count": 42,
   "id": "e8fdd08d-7fe4-4112-a827-29fc95553ed6",
   "metadata": {},
   "outputs": [
    {
     "data": {
      "text/plain": [
       "array([1. , 2. , 3.3])"
      ]
     },
     "execution_count": 42,
     "metadata": {},
     "output_type": "execute_result"
    }
   ],
   "source": [
    "a2[0]"
   ]
  },
  {
   "cell_type": "code",
   "execution_count": 43,
   "id": "004c5186-4694-478d-ac20-e4b8e912f833",
   "metadata": {},
   "outputs": [
    {
     "data": {
      "text/plain": [
       "array([[1, 2, 3],\n",
       "       [4, 5, 6],\n",
       "       [7, 8, 9]])"
      ]
     },
     "execution_count": 43,
     "metadata": {},
     "output_type": "execute_result"
    }
   ],
   "source": [
    "a3[0]"
   ]
  },
  {
   "cell_type": "code",
   "execution_count": 46,
   "id": "cb20bc62-de55-4edd-8914-77e6eb20aa4b",
   "metadata": {},
   "outputs": [
    {
     "data": {
      "text/plain": [
       "array([[[ 1,  2],\n",
       "        [ 4,  5]],\n",
       "\n",
       "       [[10, 11],\n",
       "        [13, 14]]])"
      ]
     },
     "execution_count": 46,
     "metadata": {},
     "output_type": "execute_result"
    }
   ],
   "source": [
    "a3[:2, :2, :2]"
   ]
  },
  {
   "cell_type": "code",
   "execution_count": 53,
   "id": "6cbc9bff-a232-4468-b71e-405ae87d1033",
   "metadata": {},
   "outputs": [
    {
     "data": {
      "text/plain": [
       "array([[[[5, 8, 6, 0, 5],\n",
       "         [6, 2, 0, 2, 6],\n",
       "         [6, 0, 9, 0, 0],\n",
       "         [3, 5, 0, 2, 7]],\n",
       "\n",
       "        [[5, 1, 9, 3, 4],\n",
       "         [7, 7, 1, 7, 4],\n",
       "         [7, 5, 3, 9, 2],\n",
       "         [4, 2, 0, 9, 3]],\n",
       "\n",
       "        [[7, 6, 3, 9, 2],\n",
       "         [5, 1, 6, 9, 2],\n",
       "         [4, 0, 7, 0, 7],\n",
       "         [7, 0, 0, 0, 2]]],\n",
       "\n",
       "\n",
       "       [[[5, 6, 1, 0, 3],\n",
       "         [1, 1, 9, 1, 8],\n",
       "         [9, 5, 1, 9, 8],\n",
       "         [6, 5, 4, 7, 7]],\n",
       "\n",
       "        [[4, 6, 8, 1, 6],\n",
       "         [4, 6, 0, 6, 9],\n",
       "         [8, 5, 9, 6, 5],\n",
       "         [8, 5, 9, 1, 2]],\n",
       "\n",
       "        [[1, 2, 8, 1, 2],\n",
       "         [5, 1, 1, 1, 4],\n",
       "         [5, 7, 4, 0, 0],\n",
       "         [7, 1, 1, 2, 7]]]])"
      ]
     },
     "execution_count": 53,
     "metadata": {},
     "output_type": "execute_result"
    }
   ],
   "source": [
    "np.random.seed(seed=1009320940)\n",
    "a4 = np.random.randint(10, size=(2,3,4,5))\n",
    "a4"
   ]
  },
  {
   "cell_type": "code",
   "execution_count": 54,
   "id": "fb237d61-a32b-4ee3-bc13-d006e00bc145",
   "metadata": {},
   "outputs": [
    {
     "data": {
      "text/plain": [
       "array([[[[5, 8, 6, 0],\n",
       "         [6, 2, 0, 2],\n",
       "         [6, 0, 9, 0]],\n",
       "\n",
       "        [[5, 1, 9, 3],\n",
       "         [7, 7, 1, 7],\n",
       "         [7, 5, 3, 9]]]])"
      ]
     },
     "execution_count": 54,
     "metadata": {},
     "output_type": "execute_result"
    }
   ],
   "source": [
    "a4[:1, :2, :3, :4]"
   ]
  },
  {
   "cell_type": "code",
   "execution_count": 55,
   "id": "1fde7f5c-6046-43a3-868c-d152a5de7413",
   "metadata": {},
   "outputs": [
    {
     "data": {
      "text/plain": [
       "array([8, 5, 9, 6])"
      ]
     },
     "execution_count": 55,
     "metadata": {},
     "output_type": "execute_result"
    }
   ],
   "source": [
    "# Lets say we want the first 4 numbers from the array [8, 5, 9, 6, 5]\n",
    "a4[1, 1, 2, :4]"
   ]
  },
  {
   "cell_type": "code",
   "execution_count": 57,
   "id": "331cbd06-6052-4d64-8302-da4a785086f0",
   "metadata": {},
   "outputs": [
    {
     "data": {
      "text/plain": [
       "array([4, 0, 0])"
      ]
     },
     "execution_count": 57,
     "metadata": {},
     "output_type": "execute_result"
    }
   ],
   "source": [
    "# Lets say we want the last 3 numbers from the array [5, 7, 4, 0, 0]\n",
    "a4[1, 2, 2, 2:]"
   ]
  },
  {
   "cell_type": "markdown",
   "id": "93d8f634-0671-447f-aba6-ac0fe800bee0",
   "metadata": {},
   "source": [
    "## 4. Manipulating and Comparing Arrays and Matrices"
   ]
  },
  {
   "cell_type": "markdown",
   "id": "78f87977-aaa6-4050-9f58-20afc27bf33e",
   "metadata": {},
   "source": [
    "### Arithmetics"
   ]
  },
  {
   "cell_type": "code",
   "execution_count": 58,
   "id": "565c2d18-5f5b-41b6-aa99-8ab9fac1a13d",
   "metadata": {},
   "outputs": [
    {
     "data": {
      "text/plain": [
       "array([1, 2, 3])"
      ]
     },
     "execution_count": 58,
     "metadata": {},
     "output_type": "execute_result"
    }
   ],
   "source": [
    "a1"
   ]
  },
  {
   "cell_type": "code",
   "execution_count": 61,
   "id": "83a70a40-51d2-4302-814e-0620555f3331",
   "metadata": {},
   "outputs": [
    {
     "data": {
      "text/plain": [
       "array([1, 1, 1])"
      ]
     },
     "execution_count": 61,
     "metadata": {},
     "output_type": "execute_result"
    }
   ],
   "source": [
    "ones = np.ones(3, dtype=int)\n",
    "ones"
   ]
  },
  {
   "cell_type": "code",
   "execution_count": 84,
   "id": "361dd9d8-4e58-45b4-a006-dddcb1f4e5e0",
   "metadata": {},
   "outputs": [
    {
     "data": {
      "text/plain": [
       "array([2, 3, 4])"
      ]
     },
     "execution_count": 84,
     "metadata": {},
     "output_type": "execute_result"
    }
   ],
   "source": [
    "# Add elements in the same position in both arrays\n",
    "a1 + ones\n",
    "np.add(a1, ones)"
   ]
  },
  {
   "cell_type": "code",
   "execution_count": 85,
   "id": "f7d9700d-6d22-43d4-b4b0-0a7b902cbd35",
   "metadata": {},
   "outputs": [
    {
     "data": {
      "text/plain": [
       "array([0, 1, 2])"
      ]
     },
     "execution_count": 85,
     "metadata": {},
     "output_type": "execute_result"
    }
   ],
   "source": [
    "a1 - ones\n",
    "np.subtract(a1, ones)"
   ]
  },
  {
   "cell_type": "code",
   "execution_count": 87,
   "id": "6aa3b0b7-6e14-4656-8e35-8bd12279f507",
   "metadata": {},
   "outputs": [
    {
     "data": {
      "text/plain": [
       "array([1, 2, 3])"
      ]
     },
     "execution_count": 87,
     "metadata": {},
     "output_type": "execute_result"
    }
   ],
   "source": [
    "a1 * ones"
   ]
  },
  {
   "cell_type": "code",
   "execution_count": 66,
   "id": "263e7a51-2eb0-414f-b485-b476d79d9226",
   "metadata": {},
   "outputs": [
    {
     "data": {
      "text/plain": [
       "array([[1. , 2. , 3.3],\n",
       "       [4. , 5. , 6.5]])"
      ]
     },
     "execution_count": 66,
     "metadata": {},
     "output_type": "execute_result"
    }
   ],
   "source": [
    "a2"
   ]
  },
  {
   "cell_type": "code",
   "execution_count": 69,
   "id": "f28f3c5c-6f88-4f3f-a347-271b8b075b4e",
   "metadata": {},
   "outputs": [
    {
     "data": {
      "text/plain": [
       "array([[ 1. ,  4. ,  9.9],\n",
       "       [ 4. , 10. , 19.5]])"
      ]
     },
     "execution_count": 69,
     "metadata": {},
     "output_type": "execute_result"
    }
   ],
   "source": [
    "# Smaller array is broadcast across larger array as they have compatible shapes i.e \n",
    "# innermost arrays both have length 3\n",
    "a1 * a2"
   ]
  },
  {
   "cell_type": "code",
   "execution_count": 71,
   "id": "acb27506-ac8a-464a-8abd-1000ff941559",
   "metadata": {},
   "outputs": [
    {
     "ename": "ValueError",
     "evalue": "operands could not be broadcast together with shapes (2,3) (2,3,3) ",
     "output_type": "error",
     "traceback": [
      "\u001b[0;31m---------------------------------------------------------------------------\u001b[0m",
      "\u001b[0;31mValueError\u001b[0m                                Traceback (most recent call last)",
      "Cell \u001b[0;32mIn[71], line 2\u001b[0m\n\u001b[1;32m      1\u001b[0m \u001b[38;5;66;03m# On the other hand, this broadcasting would be incompatible\u001b[39;00m\n\u001b[0;32m----> 2\u001b[0m \u001b[43ma2\u001b[49m\u001b[43m \u001b[49m\u001b[38;5;241;43m*\u001b[39;49m\u001b[43m \u001b[49m\u001b[43ma3\u001b[49m\n",
      "\u001b[0;31mValueError\u001b[0m: operands could not be broadcast together with shapes (2,3) (2,3,3) "
     ]
    }
   ],
   "source": [
    "# On the other hand, this broadcasting would be incompatible\n",
    "a2 * a3"
   ]
  },
  {
   "cell_type": "code",
   "execution_count": 72,
   "id": "b743378c-a6ff-42be-bc5f-278eb1b48eb6",
   "metadata": {},
   "outputs": [],
   "source": [
    "# So to make this compatible, we need to reshape a2 such that it is compatible with a3 (or vice versa)"
   ]
  },
  {
   "cell_type": "code",
   "execution_count": 73,
   "id": "09035bd8-801b-4a97-9758-4be1ed3afd74",
   "metadata": {},
   "outputs": [
    {
     "data": {
      "text/plain": [
       "array([[1. , 2. , 3.3],\n",
       "       [4. , 5. , 6.5]])"
      ]
     },
     "execution_count": 73,
     "metadata": {},
     "output_type": "execute_result"
    }
   ],
   "source": [
    "a2"
   ]
  },
  {
   "cell_type": "code",
   "execution_count": 74,
   "id": "f61b4e20-7ecc-4172-addc-bb14f0a607c1",
   "metadata": {},
   "outputs": [
    {
     "data": {
      "text/plain": [
       "array([[[ 1,  2,  3],\n",
       "        [ 4,  5,  6],\n",
       "        [ 7,  8,  9]],\n",
       "\n",
       "       [[10, 11, 12],\n",
       "        [13, 14, 15],\n",
       "        [16, 17, 18]]])"
      ]
     },
     "execution_count": 74,
     "metadata": {},
     "output_type": "execute_result"
    }
   ],
   "source": [
    "a3"
   ]
  },
  {
   "cell_type": "code",
   "execution_count": 75,
   "id": "b482d0e4-8bd3-4b21-bfc4-55818c2747ff",
   "metadata": {},
   "outputs": [
    {
     "data": {
      "text/plain": [
       "array([[[ 1,  2,  3],\n",
       "        [ 4,  5,  6]],\n",
       "\n",
       "       [[ 7,  8,  9],\n",
       "        [10, 11, 12]],\n",
       "\n",
       "       [[13, 14, 15],\n",
       "        [16, 17, 18]]])"
      ]
     },
     "execution_count": 75,
     "metadata": {},
     "output_type": "execute_result"
    }
   ],
   "source": [
    "# One approach may be to make a3's shape (3, 2, 3) instead of (2, 3, 3)\n",
    "a3_reshaped = np.reshape(a3, newshape=(3,2,3))\n",
    "a3_reshaped"
   ]
  },
  {
   "cell_type": "code",
   "execution_count": 77,
   "id": "8b05a54e-6013-43fc-9b30-7402c549f731",
   "metadata": {},
   "outputs": [
    {
     "data": {
      "text/plain": [
       "array([[[  1. ,   4. ,   9.9],\n",
       "        [ 16. ,  25. ,  39. ]],\n",
       "\n",
       "       [[  7. ,  16. ,  29.7],\n",
       "        [ 40. ,  55. ,  78. ]],\n",
       "\n",
       "       [[ 13. ,  28. ,  49.5],\n",
       "        [ 64. ,  85. , 117. ]]])"
      ]
     },
     "execution_count": 77,
     "metadata": {},
     "output_type": "execute_result"
    }
   ],
   "source": [
    "a2 * a3_reshaped"
   ]
  },
  {
   "cell_type": "code",
   "execution_count": 78,
   "id": "294be905-5176-4384-849f-29ecb4cb58df",
   "metadata": {},
   "outputs": [
    {
     "data": {
      "text/plain": [
       "array([[1. , 2. , 3.3],\n",
       "       [4. , 5. , 6.5]])"
      ]
     },
     "execution_count": 78,
     "metadata": {},
     "output_type": "execute_result"
    }
   ],
   "source": [
    "a2"
   ]
  },
  {
   "cell_type": "code",
   "execution_count": 79,
   "id": "deec93bb-2cde-4458-a94f-ec336bd7b06f",
   "metadata": {},
   "outputs": [
    {
     "data": {
      "text/plain": [
       "array([1., 2., 3.])"
      ]
     },
     "execution_count": 79,
     "metadata": {},
     "output_type": "execute_result"
    }
   ],
   "source": [
    "a1 / ones"
   ]
  },
  {
   "cell_type": "code",
   "execution_count": 80,
   "id": "06e9e478-ec29-4eca-8ae2-901f2b69be4a",
   "metadata": {},
   "outputs": [
    {
     "data": {
      "text/plain": [
       "array([[1.        , 1.        , 1.1       ],\n",
       "       [4.        , 2.5       , 2.16666667]])"
      ]
     },
     "execution_count": 80,
     "metadata": {},
     "output_type": "execute_result"
    }
   ],
   "source": [
    "a2 / a1"
   ]
  },
  {
   "cell_type": "code",
   "execution_count": 82,
   "id": "28b46e3c-1c62-4f0f-a6de-ac3b394dc59f",
   "metadata": {},
   "outputs": [
    {
     "data": {
      "text/plain": [
       "array([[1., 1., 1.],\n",
       "       [4., 2., 2.]])"
      ]
     },
     "execution_count": 82,
     "metadata": {},
     "output_type": "execute_result"
    }
   ],
   "source": [
    "# Floor Division\n",
    "a2 // a1"
   ]
  },
  {
   "cell_type": "code",
   "execution_count": 88,
   "id": "e22e8d62-fdca-4a2d-92ac-7bdfd924d75b",
   "metadata": {},
   "outputs": [
    {
     "data": {
      "text/plain": [
       "array([[ 1.  ,  4.  , 10.89],\n",
       "       [16.  , 25.  , 42.25]])"
      ]
     },
     "execution_count": 88,
     "metadata": {},
     "output_type": "execute_result"
    }
   ],
   "source": [
    "a2 ** 2\n",
    "np.square(a2)"
   ]
  },
  {
   "cell_type": "code",
   "execution_count": 90,
   "id": "a125973d-1859-4ef4-89d0-463d3f27938d",
   "metadata": {},
   "outputs": [
    {
     "data": {
      "text/plain": [
       "array([1, 0, 1])"
      ]
     },
     "execution_count": 90,
     "metadata": {},
     "output_type": "execute_result"
    }
   ],
   "source": [
    "a1 % 2\n",
    "np.mod(a1, 2)"
   ]
  },
  {
   "cell_type": "code",
   "execution_count": 91,
   "id": "3b88bdf6-d5de-4889-b4a5-05ec97c1954b",
   "metadata": {},
   "outputs": [
    {
     "data": {
      "text/plain": [
       "array([ 2.71828183,  7.3890561 , 20.08553692])"
      ]
     },
     "execution_count": 91,
     "metadata": {},
     "output_type": "execute_result"
    }
   ],
   "source": [
    "np.exp(a1)"
   ]
  },
  {
   "cell_type": "code",
   "execution_count": 92,
   "id": "eade124a-4261-47eb-8831-5fb57562d6f2",
   "metadata": {},
   "outputs": [
    {
     "data": {
      "text/plain": [
       "array([0.        , 0.69314718, 1.09861229])"
      ]
     },
     "execution_count": 92,
     "metadata": {},
     "output_type": "execute_result"
    }
   ],
   "source": [
    "np.log(a1)"
   ]
  },
  {
   "cell_type": "code",
   "execution_count": null,
   "id": "15b45eda-f9b1-462a-a483-29aaf3ff5d7c",
   "metadata": {},
   "outputs": [],
   "source": []
  }
 ],
 "metadata": {
  "kernelspec": {
   "display_name": "Python 3 (ipykernel)",
   "language": "python",
   "name": "python3"
  },
  "language_info": {
   "codemirror_mode": {
    "name": "ipython",
    "version": 3
   },
   "file_extension": ".py",
   "mimetype": "text/x-python",
   "name": "python",
   "nbconvert_exporter": "python",
   "pygments_lexer": "ipython3",
   "version": "3.12.3"
  }
 },
 "nbformat": 4,
 "nbformat_minor": 5
}
