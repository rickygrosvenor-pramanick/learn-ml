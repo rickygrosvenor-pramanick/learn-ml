{
 "cells": [
  {
   "cell_type": "code",
   "execution_count": 1,
   "id": "ca718091-529f-42af-a04e-ee30d395c619",
   "metadata": {},
   "outputs": [],
   "source": [
    "import numpy as np"
   ]
  },
  {
   "cell_type": "markdown",
   "id": "73cafa4d-3c53-4451-b32c-833dab68eecf",
   "metadata": {},
   "source": [
    "## Datatypes & Attributes"
   ]
  },
  {
   "cell_type": "code",
   "execution_count": 2,
   "id": "781450da-4d8c-4b88-89c2-3df073c6404f",
   "metadata": {},
   "outputs": [
    {
     "data": {
      "text/plain": [
       "array([1, 2, 3])"
      ]
     },
     "execution_count": 2,
     "metadata": {},
     "output_type": "execute_result"
    }
   ],
   "source": [
    "# Numpy's main datatype is a ndarray - n dimensional array\n",
    "a1 = np.array([1, 2, 3])\n",
    "a1"
   ]
  },
  {
   "cell_type": "code",
   "execution_count": 3,
   "id": "0aa23935-559b-4f82-8f09-351cd5a78564",
   "metadata": {},
   "outputs": [
    {
     "data": {
      "text/plain": [
       "numpy.ndarray"
      ]
     },
     "execution_count": 3,
     "metadata": {},
     "output_type": "execute_result"
    }
   ],
   "source": [
    "type(a1)"
   ]
  },
  {
   "cell_type": "code",
   "execution_count": 4,
   "id": "49806a7c-2d08-4a13-a9cf-42296017a6eb",
   "metadata": {},
   "outputs": [],
   "source": [
    "a2 = np.array([[1, 2.0, 3.3], [4, 5, 6.5]])\n",
    "\n",
    "a3 = np.array([[[x for x in range(1, 4)],\n",
    "               [x for x in range(4, 7)],\n",
    "               [x for x in range (7, 10)]],\n",
    "               [[x for x in range (10, 13)],\n",
    "                [x for x in range (13, 16)],\n",
    "                [x for x in range (16, 19)]]])"
   ]
  },
  {
   "cell_type": "code",
   "execution_count": 5,
   "id": "bb24bb35-f281-4f47-9a3f-fe7f2aed0771",
   "metadata": {},
   "outputs": [
    {
     "data": {
      "text/plain": [
       "array([[1. , 2. , 3.3],\n",
       "       [4. , 5. , 6.5]])"
      ]
     },
     "execution_count": 5,
     "metadata": {},
     "output_type": "execute_result"
    }
   ],
   "source": [
    "a2"
   ]
  },
  {
   "cell_type": "code",
   "execution_count": 6,
   "id": "cc7c2eab-e452-4214-b265-986c5f8fe5d2",
   "metadata": {},
   "outputs": [
    {
     "data": {
      "text/plain": [
       "array([[[ 1,  2,  3],\n",
       "        [ 4,  5,  6],\n",
       "        [ 7,  8,  9]],\n",
       "\n",
       "       [[10, 11, 12],\n",
       "        [13, 14, 15],\n",
       "        [16, 17, 18]]])"
      ]
     },
     "execution_count": 6,
     "metadata": {},
     "output_type": "execute_result"
    }
   ],
   "source": [
    "a3"
   ]
  },
  {
   "cell_type": "code",
   "execution_count": 7,
   "id": "0884a157-8357-498b-acd2-c919f2ed8167",
   "metadata": {},
   "outputs": [
    {
     "data": {
      "text/plain": [
       "(3,)"
      ]
     },
     "execution_count": 7,
     "metadata": {},
     "output_type": "execute_result"
    }
   ],
   "source": [
    "a1.shape"
   ]
  },
  {
   "cell_type": "code",
   "execution_count": 8,
   "id": "4f4fefcc-80f3-4bb0-af4f-a05fbfddd74f",
   "metadata": {},
   "outputs": [
    {
     "data": {
      "text/plain": [
       "(2, 3)"
      ]
     },
     "execution_count": 8,
     "metadata": {},
     "output_type": "execute_result"
    }
   ],
   "source": [
    "a2.shape"
   ]
  },
  {
   "cell_type": "code",
   "execution_count": 9,
   "id": "58fa1684-143f-47ec-988c-232333b7152d",
   "metadata": {},
   "outputs": [
    {
     "data": {
      "text/plain": [
       "(2, 3, 3)"
      ]
     },
     "execution_count": 9,
     "metadata": {},
     "output_type": "execute_result"
    }
   ],
   "source": [
    "a3.shape"
   ]
  },
  {
   "cell_type": "code",
   "execution_count": 10,
   "id": "85314194-1514-4f4e-ad4a-629b1432a52d",
   "metadata": {},
   "outputs": [
    {
     "data": {
      "text/plain": [
       "(1, 2, 3)"
      ]
     },
     "execution_count": 10,
     "metadata": {},
     "output_type": "execute_result"
    }
   ],
   "source": [
    "(a1.ndim, a2.ndim, a3.ndim)"
   ]
  },
  {
   "cell_type": "code",
   "execution_count": 11,
   "id": "8674cdb6-4538-4ea7-8d50-7332b7c580c7",
   "metadata": {},
   "outputs": [
    {
     "data": {
      "text/plain": [
       "(dtype('int64'), dtype('float64'), dtype('int64'))"
      ]
     },
     "execution_count": 11,
     "metadata": {},
     "output_type": "execute_result"
    }
   ],
   "source": [
    "(a1.dtype, a2.dtype, a3.dtype)"
   ]
  },
  {
   "cell_type": "code",
   "execution_count": 12,
   "id": "8be29ce0-0ae2-4169-adba-8edeab91a356",
   "metadata": {},
   "outputs": [
    {
     "data": {
      "text/plain": [
       "(3, 6, 18)"
      ]
     },
     "execution_count": 12,
     "metadata": {},
     "output_type": "execute_result"
    }
   ],
   "source": [
    "(a1.size, a2.size, a3.size)"
   ]
  },
  {
   "cell_type": "code",
   "execution_count": 13,
   "id": "f61cdde4-22c5-46a5-b4b8-cf171cd83feb",
   "metadata": {},
   "outputs": [
    {
     "data": {
      "text/plain": [
       "(numpy.ndarray, numpy.ndarray, numpy.ndarray)"
      ]
     },
     "execution_count": 13,
     "metadata": {},
     "output_type": "execute_result"
    }
   ],
   "source": [
    "(type(a1), type(a2), type(a3))"
   ]
  },
  {
   "cell_type": "markdown",
   "id": "ff11152d-4b80-4425-b2b6-69baa24eef97",
   "metadata": {},
   "source": [
    "## 2. Creating Arrays"
   ]
  },
  {
   "cell_type": "code",
   "execution_count": 14,
   "id": "e1b7848a-46a2-4302-ac37-5b076754bb7b",
   "metadata": {},
   "outputs": [
    {
     "data": {
      "text/plain": [
       "array([1, 2, 3])"
      ]
     },
     "execution_count": 14,
     "metadata": {},
     "output_type": "execute_result"
    }
   ],
   "source": [
    "sample_array = np.array([1, 2, 3])\n",
    "sample_array"
   ]
  },
  {
   "cell_type": "code",
   "execution_count": 15,
   "id": "a3225cf7-a788-4bdd-a2f2-810b8bb36885",
   "metadata": {},
   "outputs": [
    {
     "data": {
      "text/plain": [
       "array([[[1., 1., 1.],\n",
       "        [1., 1., 1.],\n",
       "        [1., 1., 1.]],\n",
       "\n",
       "       [[1., 1., 1.],\n",
       "        [1., 1., 1.],\n",
       "        [1., 1., 1.]]])"
      ]
     },
     "execution_count": 15,
     "metadata": {},
     "output_type": "execute_result"
    }
   ],
   "source": [
    "ones = np.ones((2, 3, 3))\n",
    "ones"
   ]
  },
  {
   "cell_type": "code",
   "execution_count": 16,
   "id": "5a4c659e-db96-435d-bedf-f8c9173f221e",
   "metadata": {},
   "outputs": [
    {
     "data": {
      "text/plain": [
       "array([[[0, 0, 0],\n",
       "        [0, 0, 0]],\n",
       "\n",
       "       [[0, 0, 0],\n",
       "        [0, 0, 0]],\n",
       "\n",
       "       [[0, 0, 0],\n",
       "        [0, 0, 0]]])"
      ]
     },
     "execution_count": 16,
     "metadata": {},
     "output_type": "execute_result"
    }
   ],
   "source": [
    "zeros = np.zeros((3, 2, 3), dtype=int)\n",
    "zeros"
   ]
  },
  {
   "cell_type": "code",
   "execution_count": 17,
   "id": "78f3e4b1-5e90-4b06-9580-7e5201cab153",
   "metadata": {},
   "outputs": [
    {
     "data": {
      "text/plain": [
       "array([0, 2, 4, 6, 8])"
      ]
     },
     "execution_count": 17,
     "metadata": {},
     "output_type": "execute_result"
    }
   ],
   "source": [
    "range_array = np.arange(0, 10, 2)\n",
    "range_array"
   ]
  },
  {
   "cell_type": "code",
   "execution_count": 18,
   "id": "81d66d9b-4ab2-4e2d-9e70-aaea3584876b",
   "metadata": {},
   "outputs": [
    {
     "data": {
      "text/plain": [
       "array([[[13,  6, 11, 12],\n",
       "        [14, 11, 11, 12]],\n",
       "\n",
       "       [[ 6, 11, 13,  8],\n",
       "        [15, 15,  6, 16]],\n",
       "\n",
       "       [[ 5, 13, 10,  9],\n",
       "        [13, 11, 10, 15]]])"
      ]
     },
     "execution_count": 18,
     "metadata": {},
     "output_type": "execute_result"
    }
   ],
   "source": [
    "random_array = np.random.randint(low=4, high=17, size=(3, 2, 4))\n",
    "random_array"
   ]
  },
  {
   "cell_type": "code",
   "execution_count": 19,
   "id": "e629ed85-d373-454e-b27f-3408fc2c50ac",
   "metadata": {},
   "outputs": [
    {
     "data": {
      "text/plain": [
       "24"
      ]
     },
     "execution_count": 19,
     "metadata": {},
     "output_type": "execute_result"
    }
   ],
   "source": [
    "random_array.size"
   ]
  },
  {
   "cell_type": "code",
   "execution_count": 20,
   "id": "e50dd511-ba78-4468-b00d-2cbe356e421c",
   "metadata": {},
   "outputs": [
    {
     "data": {
      "text/plain": [
       "array([[[0.27800892, 0.82017655, 0.92995859, 0.89720208],\n",
       "        [0.98743167, 0.61338767, 0.34810566, 0.98425325]],\n",
       "\n",
       "       [[0.6275053 , 0.1964891 , 0.78378882, 0.17609989],\n",
       "        [0.22730009, 0.3099875 , 0.22162557, 0.82936587]],\n",
       "\n",
       "       [[0.54894568, 0.91163301, 0.18886691, 0.97085683],\n",
       "        [0.29683441, 0.57310766, 0.58144039, 0.09992012]]])"
      ]
     },
     "execution_count": 20,
     "metadata": {},
     "output_type": "execute_result"
    }
   ],
   "source": [
    "random_array_2 = np.random.random(size=(3, 2, 4))\n",
    "random_array_2"
   ]
  },
  {
   "cell_type": "code",
   "execution_count": 21,
   "id": "9fd02dfe-c52e-4f94-985e-0f3c42151d63",
   "metadata": {},
   "outputs": [
    {
     "data": {
      "text/plain": [
       "array([[[0.11636519, 0.1672458 , 0.8445171 , 0.57947472],\n",
       "        [0.80520522, 0.54037224, 0.58119389, 0.6426369 ]],\n",
       "\n",
       "       [[0.34922947, 0.34031012, 0.59570439, 0.37312034],\n",
       "        [0.69193263, 0.6383937 , 0.46357865, 0.18475853]],\n",
       "\n",
       "       [[0.96652653, 0.75857173, 0.88465882, 0.40018763],\n",
       "        [0.90026833, 0.6846948 , 0.85768492, 0.04764893]]])"
      ]
     },
     "execution_count": 21,
     "metadata": {},
     "output_type": "execute_result"
    }
   ],
   "source": [
    "random_array_3 = np.random.rand(3, 2, 4)\n",
    "random_array_3"
   ]
  },
  {
   "cell_type": "code",
   "execution_count": 22,
   "id": "14e766b2-6614-441c-8f21-0a341a5ddb00",
   "metadata": {},
   "outputs": [
    {
     "data": {
      "text/plain": [
       "array([[5, 0, 3],\n",
       "       [3, 7, 9],\n",
       "       [3, 5, 2],\n",
       "       [4, 7, 6],\n",
       "       [8, 8, 1]])"
      ]
     },
     "execution_count": 22,
     "metadata": {},
     "output_type": "execute_result"
    }
   ],
   "source": [
    "# Pseudo-random numbers - helps produce random numbers which are reproduceable\n",
    "np.random.seed(seed=0)\n",
    "random_array_4 = np.random.randint(10, size=(5, 3))\n",
    "random_array_4"
   ]
  },
  {
   "cell_type": "markdown",
   "id": "f583bdfb-cec4-4cce-a06b-874e9bb9c670",
   "metadata": {},
   "source": [
    "## 3. Viewing Arrays and Matrices"
   ]
  },
  {
   "cell_type": "code",
   "execution_count": 23,
   "id": "babd462f-5911-46fa-8c73-8de7e026d5e6",
   "metadata": {},
   "outputs": [
    {
     "data": {
      "text/plain": [
       "array([0, 1, 2, 3, 4, 5, 6, 7, 8, 9])"
      ]
     },
     "execution_count": 23,
     "metadata": {},
     "output_type": "execute_result"
    }
   ],
   "source": [
    "# Finds all the unique items in an array\n",
    "np.unique(random_array_4)"
   ]
  },
  {
   "cell_type": "code",
   "execution_count": 24,
   "id": "75ed0392-3619-4a74-9178-d3e4a4d580ea",
   "metadata": {},
   "outputs": [
    {
     "data": {
      "text/plain": [
       "1"
      ]
     },
     "execution_count": 24,
     "metadata": {},
     "output_type": "execute_result"
    }
   ],
   "source": [
    "a1[0]"
   ]
  },
  {
   "cell_type": "code",
   "execution_count": 25,
   "id": "e8fdd08d-7fe4-4112-a827-29fc95553ed6",
   "metadata": {},
   "outputs": [
    {
     "data": {
      "text/plain": [
       "array([1. , 2. , 3.3])"
      ]
     },
     "execution_count": 25,
     "metadata": {},
     "output_type": "execute_result"
    }
   ],
   "source": [
    "a2[0]"
   ]
  },
  {
   "cell_type": "code",
   "execution_count": 26,
   "id": "004c5186-4694-478d-ac20-e4b8e912f833",
   "metadata": {},
   "outputs": [
    {
     "data": {
      "text/plain": [
       "array([[1, 2, 3],\n",
       "       [4, 5, 6],\n",
       "       [7, 8, 9]])"
      ]
     },
     "execution_count": 26,
     "metadata": {},
     "output_type": "execute_result"
    }
   ],
   "source": [
    "a3[0]"
   ]
  },
  {
   "cell_type": "code",
   "execution_count": 27,
   "id": "cb20bc62-de55-4edd-8914-77e6eb20aa4b",
   "metadata": {},
   "outputs": [
    {
     "data": {
      "text/plain": [
       "array([[[ 1,  2],\n",
       "        [ 4,  5]],\n",
       "\n",
       "       [[10, 11],\n",
       "        [13, 14]]])"
      ]
     },
     "execution_count": 27,
     "metadata": {},
     "output_type": "execute_result"
    }
   ],
   "source": [
    "a3[:2, :2, :2]"
   ]
  },
  {
   "cell_type": "code",
   "execution_count": 28,
   "id": "6cbc9bff-a232-4468-b71e-405ae87d1033",
   "metadata": {},
   "outputs": [
    {
     "data": {
      "text/plain": [
       "array([[[[5, 8, 6, 0, 5],\n",
       "         [6, 2, 0, 2, 6],\n",
       "         [6, 0, 9, 0, 0],\n",
       "         [3, 5, 0, 2, 7]],\n",
       "\n",
       "        [[5, 1, 9, 3, 4],\n",
       "         [7, 7, 1, 7, 4],\n",
       "         [7, 5, 3, 9, 2],\n",
       "         [4, 2, 0, 9, 3]],\n",
       "\n",
       "        [[7, 6, 3, 9, 2],\n",
       "         [5, 1, 6, 9, 2],\n",
       "         [4, 0, 7, 0, 7],\n",
       "         [7, 0, 0, 0, 2]]],\n",
       "\n",
       "\n",
       "       [[[5, 6, 1, 0, 3],\n",
       "         [1, 1, 9, 1, 8],\n",
       "         [9, 5, 1, 9, 8],\n",
       "         [6, 5, 4, 7, 7]],\n",
       "\n",
       "        [[4, 6, 8, 1, 6],\n",
       "         [4, 6, 0, 6, 9],\n",
       "         [8, 5, 9, 6, 5],\n",
       "         [8, 5, 9, 1, 2]],\n",
       "\n",
       "        [[1, 2, 8, 1, 2],\n",
       "         [5, 1, 1, 1, 4],\n",
       "         [5, 7, 4, 0, 0],\n",
       "         [7, 1, 1, 2, 7]]]])"
      ]
     },
     "execution_count": 28,
     "metadata": {},
     "output_type": "execute_result"
    }
   ],
   "source": [
    "np.random.seed(seed=1009320940)\n",
    "a4 = np.random.randint(10, size=(2,3,4,5))\n",
    "a4"
   ]
  },
  {
   "cell_type": "code",
   "execution_count": 29,
   "id": "fb237d61-a32b-4ee3-bc13-d006e00bc145",
   "metadata": {},
   "outputs": [
    {
     "data": {
      "text/plain": [
       "array([[[[5, 8, 6, 0],\n",
       "         [6, 2, 0, 2],\n",
       "         [6, 0, 9, 0]],\n",
       "\n",
       "        [[5, 1, 9, 3],\n",
       "         [7, 7, 1, 7],\n",
       "         [7, 5, 3, 9]]]])"
      ]
     },
     "execution_count": 29,
     "metadata": {},
     "output_type": "execute_result"
    }
   ],
   "source": [
    "a4[:1, :2, :3, :4]"
   ]
  },
  {
   "cell_type": "code",
   "execution_count": 30,
   "id": "1fde7f5c-6046-43a3-868c-d152a5de7413",
   "metadata": {},
   "outputs": [
    {
     "data": {
      "text/plain": [
       "array([8, 5, 9, 6])"
      ]
     },
     "execution_count": 30,
     "metadata": {},
     "output_type": "execute_result"
    }
   ],
   "source": [
    "# Lets say we want the first 4 numbers from the array [8, 5, 9, 6, 5]\n",
    "a4[1, 1, 2, :4]"
   ]
  },
  {
   "cell_type": "code",
   "execution_count": 31,
   "id": "331cbd06-6052-4d64-8302-da4a785086f0",
   "metadata": {},
   "outputs": [
    {
     "data": {
      "text/plain": [
       "array([4, 0, 0])"
      ]
     },
     "execution_count": 31,
     "metadata": {},
     "output_type": "execute_result"
    }
   ],
   "source": [
    "# Lets say we want the last 3 numbers from the array [5, 7, 4, 0, 0]\n",
    "a4[1, 2, 2, 2:]"
   ]
  },
  {
   "cell_type": "markdown",
   "id": "93d8f634-0671-447f-aba6-ac0fe800bee0",
   "metadata": {},
   "source": [
    "## 4. Manipulating and Comparing Arrays and Matrices"
   ]
  },
  {
   "cell_type": "markdown",
   "id": "78f87977-aaa6-4050-9f58-20afc27bf33e",
   "metadata": {},
   "source": [
    "### Arithmetics"
   ]
  },
  {
   "cell_type": "code",
   "execution_count": 32,
   "id": "565c2d18-5f5b-41b6-aa99-8ab9fac1a13d",
   "metadata": {},
   "outputs": [
    {
     "data": {
      "text/plain": [
       "array([1, 2, 3])"
      ]
     },
     "execution_count": 32,
     "metadata": {},
     "output_type": "execute_result"
    }
   ],
   "source": [
    "a1"
   ]
  },
  {
   "cell_type": "code",
   "execution_count": 33,
   "id": "83a70a40-51d2-4302-814e-0620555f3331",
   "metadata": {},
   "outputs": [
    {
     "data": {
      "text/plain": [
       "array([1, 1, 1])"
      ]
     },
     "execution_count": 33,
     "metadata": {},
     "output_type": "execute_result"
    }
   ],
   "source": [
    "ones = np.ones(3, dtype=int)\n",
    "ones"
   ]
  },
  {
   "cell_type": "code",
   "execution_count": 34,
   "id": "361dd9d8-4e58-45b4-a006-dddcb1f4e5e0",
   "metadata": {},
   "outputs": [
    {
     "data": {
      "text/plain": [
       "array([2, 3, 4])"
      ]
     },
     "execution_count": 34,
     "metadata": {},
     "output_type": "execute_result"
    }
   ],
   "source": [
    "# Add elements in the same position in both arrays\n",
    "a1 + ones\n",
    "np.add(a1, ones)"
   ]
  },
  {
   "cell_type": "code",
   "execution_count": 35,
   "id": "f7d9700d-6d22-43d4-b4b0-0a7b902cbd35",
   "metadata": {},
   "outputs": [
    {
     "data": {
      "text/plain": [
       "array([0, 1, 2])"
      ]
     },
     "execution_count": 35,
     "metadata": {},
     "output_type": "execute_result"
    }
   ],
   "source": [
    "a1 - ones\n",
    "np.subtract(a1, ones)"
   ]
  },
  {
   "cell_type": "code",
   "execution_count": 36,
   "id": "6aa3b0b7-6e14-4656-8e35-8bd12279f507",
   "metadata": {},
   "outputs": [
    {
     "data": {
      "text/plain": [
       "array([1, 2, 3])"
      ]
     },
     "execution_count": 36,
     "metadata": {},
     "output_type": "execute_result"
    }
   ],
   "source": [
    "a1 * ones"
   ]
  },
  {
   "cell_type": "code",
   "execution_count": 37,
   "id": "263e7a51-2eb0-414f-b485-b476d79d9226",
   "metadata": {},
   "outputs": [
    {
     "data": {
      "text/plain": [
       "array([[1. , 2. , 3.3],\n",
       "       [4. , 5. , 6.5]])"
      ]
     },
     "execution_count": 37,
     "metadata": {},
     "output_type": "execute_result"
    }
   ],
   "source": [
    "a2"
   ]
  },
  {
   "cell_type": "code",
   "execution_count": 38,
   "id": "f28f3c5c-6f88-4f3f-a347-271b8b075b4e",
   "metadata": {},
   "outputs": [
    {
     "data": {
      "text/plain": [
       "array([[ 1. ,  4. ,  9.9],\n",
       "       [ 4. , 10. , 19.5]])"
      ]
     },
     "execution_count": 38,
     "metadata": {},
     "output_type": "execute_result"
    }
   ],
   "source": [
    "# Smaller array is broadcast across larger array as they have compatible shapes i.e \n",
    "# innermost arrays both have length 3\n",
    "a1 * a2"
   ]
  },
  {
   "cell_type": "code",
   "execution_count": 39,
   "id": "acb27506-ac8a-464a-8abd-1000ff941559",
   "metadata": {},
   "outputs": [
    {
     "ename": "ValueError",
     "evalue": "operands could not be broadcast together with shapes (2,3) (2,3,3) ",
     "output_type": "error",
     "traceback": [
      "\u001b[0;31m---------------------------------------------------------------------------\u001b[0m",
      "\u001b[0;31mValueError\u001b[0m                                Traceback (most recent call last)",
      "Cell \u001b[0;32mIn[39], line 2\u001b[0m\n\u001b[1;32m      1\u001b[0m \u001b[38;5;66;03m# On the other hand, this broadcasting would be incompatible\u001b[39;00m\n\u001b[0;32m----> 2\u001b[0m \u001b[43ma2\u001b[49m\u001b[43m \u001b[49m\u001b[38;5;241;43m*\u001b[39;49m\u001b[43m \u001b[49m\u001b[43ma3\u001b[49m\n",
      "\u001b[0;31mValueError\u001b[0m: operands could not be broadcast together with shapes (2,3) (2,3,3) "
     ]
    }
   ],
   "source": [
    "# On the other hand, this broadcasting would be incompatible\n",
    "a2 * a3"
   ]
  },
  {
   "cell_type": "code",
   "execution_count": null,
   "id": "b743378c-a6ff-42be-bc5f-278eb1b48eb6",
   "metadata": {},
   "outputs": [],
   "source": [
    "# So to make this compatible, we need to reshape a2 such that it is compatible with a3 (or vice versa)"
   ]
  },
  {
   "cell_type": "code",
   "execution_count": null,
   "id": "09035bd8-801b-4a97-9758-4be1ed3afd74",
   "metadata": {},
   "outputs": [],
   "source": [
    "a2"
   ]
  },
  {
   "cell_type": "code",
   "execution_count": null,
   "id": "f61b4e20-7ecc-4172-addc-bb14f0a607c1",
   "metadata": {},
   "outputs": [],
   "source": [
    "a3"
   ]
  },
  {
   "cell_type": "code",
   "execution_count": null,
   "id": "b482d0e4-8bd3-4b21-bfc4-55818c2747ff",
   "metadata": {},
   "outputs": [],
   "source": [
    "# One approach may be to make a3's shape (3, 2, 3) instead of (2, 3, 3)\n",
    "a3_reshaped = np.reshape(a3, newshape=(3,2,3))\n",
    "a3_reshaped"
   ]
  },
  {
   "cell_type": "code",
   "execution_count": null,
   "id": "8b05a54e-6013-43fc-9b30-7402c549f731",
   "metadata": {},
   "outputs": [],
   "source": [
    "a2 * a3_reshaped"
   ]
  },
  {
   "cell_type": "code",
   "execution_count": null,
   "id": "294be905-5176-4384-849f-29ecb4cb58df",
   "metadata": {},
   "outputs": [],
   "source": [
    "a2"
   ]
  },
  {
   "cell_type": "code",
   "execution_count": null,
   "id": "deec93bb-2cde-4458-a94f-ec336bd7b06f",
   "metadata": {},
   "outputs": [],
   "source": [
    "a1 / ones"
   ]
  },
  {
   "cell_type": "code",
   "execution_count": null,
   "id": "06e9e478-ec29-4eca-8ae2-901f2b69be4a",
   "metadata": {},
   "outputs": [],
   "source": [
    "a2 / a1"
   ]
  },
  {
   "cell_type": "code",
   "execution_count": null,
   "id": "28b46e3c-1c62-4f0f-a6de-ac3b394dc59f",
   "metadata": {},
   "outputs": [],
   "source": [
    "# Floor Division\n",
    "a2 // a1"
   ]
  },
  {
   "cell_type": "code",
   "execution_count": null,
   "id": "e22e8d62-fdca-4a2d-92ac-7bdfd924d75b",
   "metadata": {},
   "outputs": [],
   "source": [
    "a2 ** 2\n",
    "np.square(a2)"
   ]
  },
  {
   "cell_type": "code",
   "execution_count": null,
   "id": "a125973d-1859-4ef4-89d0-463d3f27938d",
   "metadata": {},
   "outputs": [],
   "source": [
    "a1 % 2\n",
    "np.mod(a1, 2)"
   ]
  },
  {
   "cell_type": "code",
   "execution_count": null,
   "id": "3b88bdf6-d5de-4889-b4a5-05ec97c1954b",
   "metadata": {},
   "outputs": [],
   "source": [
    "np.exp(a1)"
   ]
  },
  {
   "cell_type": "code",
   "execution_count": null,
   "id": "eade124a-4261-47eb-8831-5fb57562d6f2",
   "metadata": {},
   "outputs": [],
   "source": [
    "np.log(a1)"
   ]
  },
  {
   "cell_type": "markdown",
   "id": "388f091c-bc7b-4ad5-be34-ed3921b08d82",
   "metadata": {},
   "source": [
    "### Aggregation\n",
    "Performing the same operation on a number of objects"
   ]
  },
  {
   "cell_type": "code",
   "execution_count": 41,
   "id": "ca56bfd2-28e0-4111-ac9b-f080bf2966f0",
   "metadata": {},
   "outputs": [
    {
     "data": {
      "text/plain": [
       "list"
      ]
     },
     "execution_count": 41,
     "metadata": {},
     "output_type": "execute_result"
    }
   ],
   "source": [
    "listy = [1, 2, 3]\n",
    "type(listy)"
   ]
  },
  {
   "cell_type": "code",
   "execution_count": 42,
   "id": "195efa8e-4082-49ea-b13d-61ae25df68ab",
   "metadata": {},
   "outputs": [
    {
     "data": {
      "text/plain": [
       "6"
      ]
     },
     "execution_count": 42,
     "metadata": {},
     "output_type": "execute_result"
    }
   ],
   "source": [
    "sum(listy)"
   ]
  },
  {
   "cell_type": "code",
   "execution_count": 43,
   "id": "0e66895a-c63c-494d-b554-006b40f842d5",
   "metadata": {},
   "outputs": [
    {
     "data": {
      "text/plain": [
       "array([1, 2, 3])"
      ]
     },
     "execution_count": 43,
     "metadata": {},
     "output_type": "execute_result"
    }
   ],
   "source": [
    "a1"
   ]
  },
  {
   "cell_type": "code",
   "execution_count": 44,
   "id": "a80a5793-d1c4-4b7f-a15a-b105b9abbcba",
   "metadata": {},
   "outputs": [
    {
     "data": {
      "text/plain": [
       "numpy.ndarray"
      ]
     },
     "execution_count": 44,
     "metadata": {},
     "output_type": "execute_result"
    }
   ],
   "source": [
    "type(a1)"
   ]
  },
  {
   "cell_type": "code",
   "execution_count": 45,
   "id": "8e4091f8-0826-423a-b699-6402aee3300d",
   "metadata": {},
   "outputs": [
    {
     "data": {
      "text/plain": [
       "6"
      ]
     },
     "execution_count": 45,
     "metadata": {},
     "output_type": "execute_result"
    }
   ],
   "source": [
    "np.sum(a1)"
   ]
  },
  {
   "cell_type": "code",
   "execution_count": 47,
   "id": "ae55a2a1-b281-4137-b4eb-0c3a89f4fdf8",
   "metadata": {},
   "outputs": [
    {
     "data": {
      "text/plain": [
       "dtype('int64')"
      ]
     },
     "execution_count": 47,
     "metadata": {},
     "output_type": "execute_result"
    }
   ],
   "source": [
    "a1.dtype"
   ]
  },
  {
   "cell_type": "code",
   "execution_count": 48,
   "id": "38d2c24c-9e7e-4f61-a07f-2afa8658cafb",
   "metadata": {},
   "outputs": [
    {
     "data": {
      "text/plain": [
       "1000000"
      ]
     },
     "execution_count": 48,
     "metadata": {},
     "output_type": "execute_result"
    }
   ],
   "source": [
    "massive_array = np.random.random(1000000)\n",
    "massive_array.size"
   ]
  },
  {
   "cell_type": "code",
   "execution_count": 49,
   "id": "d39d3b96-1d46-4b00-83bc-a356f5b0b726",
   "metadata": {},
   "outputs": [
    {
     "data": {
      "text/plain": [
       "array([1.05860828e-01, 8.51854238e-01, 3.39370038e-01, 3.76515699e-01,\n",
       "       1.00324557e-02, 1.39641128e-01, 5.94414977e-01, 5.76641935e-01,\n",
       "       7.52479942e-01, 9.50845230e-01, 5.47160773e-01, 7.28684763e-01,\n",
       "       3.30800005e-01, 8.72102365e-01, 4.07999827e-01, 2.02567088e-01,\n",
       "       6.06218428e-01, 1.52024186e-01, 8.45044782e-01, 9.62051641e-01,\n",
       "       3.29131721e-01, 4.47891019e-01, 6.80232257e-01, 3.78465082e-01,\n",
       "       1.40878807e-01, 4.80854210e-01, 8.75557590e-01, 4.36608683e-01,\n",
       "       7.71618122e-01, 9.37113565e-01, 7.29862904e-01, 4.20369831e-01,\n",
       "       7.14834795e-01, 8.99701635e-01, 8.22910474e-01, 1.10052036e-01,\n",
       "       1.59258574e-01, 7.81322683e-02, 2.36606878e-01, 6.60435829e-01,\n",
       "       9.00054277e-01, 3.05779556e-01, 3.91376209e-01, 5.13216045e-01,\n",
       "       8.76682054e-01, 1.60566438e-01, 4.62787041e-01, 4.36411414e-01,\n",
       "       5.94807018e-01, 4.45198429e-01, 7.13104046e-02, 7.42716254e-01,\n",
       "       7.99252526e-01, 1.26289387e-01, 9.56505176e-01, 6.05127004e-02,\n",
       "       3.50210109e-01, 4.46952633e-01, 6.12778576e-01, 8.80222584e-01,\n",
       "       5.01373145e-01, 5.33987398e-01, 7.48423395e-01, 8.58448243e-01,\n",
       "       9.02273389e-01, 7.08791279e-01, 5.99915622e-01, 7.49543309e-01,\n",
       "       5.95295328e-01, 4.92151145e-01, 9.13249323e-01, 3.49259674e-02,\n",
       "       5.83389455e-01, 6.37832108e-01, 2.27902397e-01, 5.99465267e-01,\n",
       "       6.65279193e-01, 7.54937878e-01, 5.98184504e-01, 1.23036673e-01,\n",
       "       6.75613808e-01, 4.22515658e-01, 9.00078305e-01, 1.25597749e-01,\n",
       "       3.82292887e-01, 6.88235461e-01, 6.63350506e-01, 8.60218115e-02,\n",
       "       6.26711165e-01, 1.27934403e-01, 8.24782295e-01, 9.24730189e-01,\n",
       "       8.51838638e-01, 1.19488882e-02, 7.94387819e-01, 7.01415686e-01,\n",
       "       2.93966829e-01, 4.49849403e-01, 7.94503298e-01, 7.26379846e-01,\n",
       "       8.13294166e-01, 8.03427617e-01, 7.43388477e-01, 3.14121124e-01,\n",
       "       8.70320729e-01, 5.88885380e-01, 6.35159371e-01, 1.63359199e-01,\n",
       "       1.80435866e-01, 6.22862606e-01, 5.87630987e-02, 5.50125845e-01,\n",
       "       1.75950382e-01, 2.33878591e-01, 7.72521711e-01, 1.53767077e-01,\n",
       "       1.66076638e-01, 8.71535620e-02, 3.21245181e-02, 3.74931175e-02,\n",
       "       9.05698350e-01, 3.46457137e-01, 2.22438013e-01, 2.74371520e-02,\n",
       "       4.87083238e-01, 8.00127253e-02, 9.03866342e-02, 3.43773232e-03,\n",
       "       9.08101441e-03, 7.48764709e-01, 7.91627160e-01, 3.20985350e-01,\n",
       "       8.28665143e-01, 3.70522594e-01, 1.15409142e-02, 2.24857781e-01,\n",
       "       1.60119070e-01, 3.73885395e-01, 3.88986653e-01, 6.56915590e-02,\n",
       "       2.43919491e-01, 2.61128509e-01, 2.30367021e-01, 9.82566058e-01,\n",
       "       6.54892869e-01, 5.04383867e-01, 6.45727188e-02, 2.40148188e-01,\n",
       "       2.52740875e-01, 2.32563421e-01, 9.90997835e-01, 3.39098196e-01,\n",
       "       7.33457080e-01, 5.47971891e-02, 9.17111962e-01, 5.72652414e-01,\n",
       "       1.93591069e-01, 2.00021603e-01, 1.27540657e-01, 4.52354815e-01,\n",
       "       2.29479825e-01, 8.38510004e-01, 1.06678460e-01, 9.98842888e-01,\n",
       "       6.44567496e-01, 6.14208321e-01, 4.85819336e-02, 9.25085428e-01,\n",
       "       4.31132304e-01, 6.16982777e-01, 4.04733643e-01, 2.96754543e-01,\n",
       "       1.28118832e-01, 3.99023067e-01, 1.94811302e-01, 2.05457855e-02,\n",
       "       1.14520716e-02, 3.04747738e-02, 5.73186986e-01, 5.64203566e-01,\n",
       "       2.60718831e-01, 7.14581998e-02, 4.87914333e-01, 2.07399228e-01,\n",
       "       7.02860311e-01, 7.43050348e-01, 9.76058953e-01, 4.58826177e-01,\n",
       "       2.09978160e-01, 4.53475517e-01, 1.23401993e-01, 6.24545557e-01,\n",
       "       7.40489104e-01, 1.31855151e-01, 6.16921749e-01, 1.42638633e-02,\n",
       "       7.07475361e-01, 4.53718067e-01, 2.09728769e-01, 2.05518292e-01,\n",
       "       2.76703690e-01, 7.28145491e-01, 7.00206480e-01, 7.36820636e-01,\n",
       "       4.06900238e-01, 4.55957962e-01, 4.11038249e-01, 6.04052072e-01,\n",
       "       6.11155822e-01, 6.45612898e-01, 7.57427508e-01, 7.55424363e-02,\n",
       "       6.18261441e-01, 2.06662147e-01, 2.57932545e-01, 8.73033659e-02,\n",
       "       2.67394089e-01, 3.98408294e-01, 3.94575558e-01, 6.53901662e-01,\n",
       "       7.08278599e-01, 5.82978024e-01, 7.77913981e-01, 2.94698128e-01,\n",
       "       5.76732980e-01, 7.77181310e-01, 5.33177124e-01, 7.62973133e-01,\n",
       "       5.81859018e-01, 9.67428069e-01, 6.28652037e-02, 2.93266891e-01,\n",
       "       8.57562100e-01, 2.36520777e-01, 6.06217120e-01, 6.06749854e-01,\n",
       "       9.08563388e-01, 6.25168775e-01, 2.50339301e-01, 2.35776267e-01,\n",
       "       9.81276735e-01, 5.39503708e-01, 5.76663030e-01, 6.23290852e-01,\n",
       "       7.48055515e-01, 6.22797185e-01, 2.15442641e-01, 6.93688155e-01,\n",
       "       7.26849408e-01, 9.93275465e-01, 6.14590429e-01, 2.13398096e-03,\n",
       "       4.53701754e-01, 7.16611378e-01, 6.26671725e-01, 6.27708852e-01,\n",
       "       8.93088527e-03, 6.19523540e-01, 5.34175598e-01, 9.01741864e-01,\n",
       "       3.88826585e-02, 6.19542752e-01, 5.10433307e-01, 3.65063862e-01,\n",
       "       7.54377095e-01, 7.16221603e-01, 1.52855392e-01, 2.77553922e-01,\n",
       "       2.07304843e-01, 7.39125440e-02, 8.65126402e-01, 9.16434531e-01,\n",
       "       9.33625356e-02, 7.67919228e-01, 4.06723341e-01, 1.49054683e-01,\n",
       "       8.09034814e-01, 8.82797302e-01, 4.34691549e-02, 2.31568423e-01,\n",
       "       1.78518787e-01, 8.41960556e-01, 8.62221208e-01, 1.63887065e-01,\n",
       "       5.04589514e-01, 1.33150535e-01, 8.25954479e-01, 5.70487026e-01,\n",
       "       4.05431807e-01, 3.85663215e-03, 2.70733314e-01, 6.45393095e-01,\n",
       "       9.53475717e-01, 9.97616931e-01, 3.42485817e-02, 4.87920316e-01,\n",
       "       4.66451280e-01, 5.37300807e-01, 9.25126440e-01, 1.77494122e-01,\n",
       "       7.22414315e-01, 4.84527137e-01, 6.72027666e-01, 9.15757515e-01,\n",
       "       4.17424523e-01, 2.99114385e-01, 2.09237870e-01, 8.50147713e-01,\n",
       "       9.17268857e-01, 4.19108626e-01, 9.98493449e-01, 1.46594954e-01,\n",
       "       4.20804311e-01, 3.41273959e-01, 3.31078830e-01, 6.74587761e-01,\n",
       "       9.10097648e-01, 8.23951383e-01, 7.36679619e-01, 3.20915168e-01,\n",
       "       3.02290126e-01, 8.83767293e-01, 9.66282280e-01, 7.79537445e-01,\n",
       "       3.78156836e-02, 4.80180840e-01, 3.61187145e-01, 2.59405167e-01,\n",
       "       9.76126362e-01, 7.40098320e-01, 5.87378267e-01, 8.68490630e-01,\n",
       "       9.86600063e-02, 9.68099265e-01, 1.66218128e-01, 9.84847680e-01,\n",
       "       4.06506316e-01, 1.53516149e-01, 1.90160272e-01, 7.07324506e-01,\n",
       "       2.46169714e-01, 1.62664278e-01, 1.09801521e-01, 6.83129370e-01,\n",
       "       8.68845951e-01, 5.01694240e-01, 2.77204729e-02, 8.87321997e-01,\n",
       "       4.92699080e-01, 4.62605521e-01, 3.14597122e-01, 2.80882518e-02,\n",
       "       5.88493902e-01, 3.31503581e-01, 6.53936620e-01, 5.26283120e-01,\n",
       "       7.46279905e-01, 5.69586561e-02, 4.09425282e-01, 5.02621365e-01,\n",
       "       5.94630326e-01, 2.95265852e-01, 6.89278880e-01, 8.77144082e-01,\n",
       "       2.18204766e-01, 9.67827136e-01, 4.05133069e-01, 1.72178699e-01,\n",
       "       4.57609524e-01, 8.70972066e-01, 2.95099315e-01, 4.54466315e-01,\n",
       "       3.23009586e-01, 3.66960520e-01, 1.01694979e-01, 8.74920794e-01,\n",
       "       9.67237101e-01, 2.34421833e-01, 7.32448820e-01, 9.23639967e-01,\n",
       "       6.94096379e-01, 9.60621069e-02, 3.10914901e-01, 5.11698078e-01,\n",
       "       7.74917422e-01, 5.91983917e-01, 5.82416549e-02, 9.61075925e-01,\n",
       "       6.67722910e-01, 5.60100629e-01, 3.08364326e-01, 5.42194842e-01,\n",
       "       7.78868251e-01, 3.90786547e-01, 4.08565898e-01, 3.56331539e-01,\n",
       "       4.09511236e-01, 4.23455318e-01, 7.98759268e-01, 6.98286747e-01,\n",
       "       7.54963466e-02, 8.44889459e-01, 4.64048303e-01, 9.07904564e-01,\n",
       "       8.42816331e-01, 5.92429553e-01, 5.79564245e-01, 9.97029194e-01,\n",
       "       2.81015954e-01, 1.03225201e-01, 5.89611359e-01, 9.64681028e-01,\n",
       "       2.60958285e-01, 8.62885066e-01, 9.79315437e-02, 6.56872018e-04,\n",
       "       5.41882179e-01, 5.98325000e-02, 8.64098889e-02, 4.69675498e-01,\n",
       "       4.60777410e-01, 4.03362476e-01, 8.63298851e-01, 2.21254433e-01,\n",
       "       7.51359497e-01, 5.62627265e-01, 1.33465119e-01, 1.85859533e-01,\n",
       "       7.94688403e-01, 9.12777510e-01, 2.27973989e-02, 9.01763244e-01,\n",
       "       9.24570520e-01, 5.66685610e-01, 5.38679518e-01, 8.59422046e-01,\n",
       "       1.39086216e-01, 6.15820514e-01, 7.24976757e-01, 5.30447367e-01,\n",
       "       5.86108055e-01, 2.46836128e-01, 8.70125419e-01, 4.41385505e-01,\n",
       "       3.14356590e-01, 7.20929317e-01, 4.72052250e-01, 4.62393374e-01,\n",
       "       4.16588812e-01, 4.38753319e-01, 3.67052675e-01, 4.72651390e-01,\n",
       "       7.03049551e-01, 6.62686483e-01, 5.62296970e-01, 6.76994740e-01,\n",
       "       5.95659160e-01, 1.23365105e-01, 7.39883989e-01, 2.64577682e-01,\n",
       "       2.73066200e-01, 5.13025275e-01, 2.35534908e-01, 3.89619620e-01,\n",
       "       4.52914239e-01, 7.77403071e-01, 5.00594863e-01, 9.41754465e-01,\n",
       "       8.59752567e-01, 5.78857343e-01, 1.03783540e-01, 8.27466037e-01,\n",
       "       4.94333878e-01, 4.31204034e-01, 9.42220481e-01, 6.08270905e-01,\n",
       "       5.63684950e-02, 4.65223277e-02, 9.12948710e-01, 9.14301116e-01,\n",
       "       8.11922874e-01, 7.05738522e-01, 8.05177742e-01, 4.78624636e-01,\n",
       "       5.22672324e-01, 3.93817338e-01, 4.70190159e-01, 4.43199766e-01,\n",
       "       2.97967110e-01, 4.14965268e-01, 8.67763586e-01, 9.34392822e-01,\n",
       "       8.37781783e-01, 8.79070184e-01, 8.04118439e-01, 9.66656871e-01,\n",
       "       5.66007995e-01, 6.85430067e-01, 5.52034988e-01, 9.07377590e-01,\n",
       "       2.37884500e-01, 8.71687825e-01, 7.55296101e-01, 7.83027038e-01,\n",
       "       2.95016013e-02, 3.28610719e-01, 9.97388881e-01, 4.36363630e-01,\n",
       "       9.21038535e-01, 2.06292080e-01, 1.06899197e-01, 7.55323766e-01,\n",
       "       2.99730097e-03, 3.62950732e-01, 6.63266626e-01, 2.15763525e-01,\n",
       "       3.16892319e-01, 8.52643022e-01, 1.20381541e-01, 7.84713618e-01,\n",
       "       7.00651147e-01, 9.30789167e-01, 8.82582653e-01, 2.34122337e-01,\n",
       "       8.74418508e-01, 8.14259863e-01, 7.28364530e-01, 4.97855627e-02,\n",
       "       2.87181204e-01, 8.70929777e-02, 9.73937858e-01, 7.97022556e-01,\n",
       "       2.14202034e-01, 2.48857689e-01, 4.00088780e-01, 1.41739185e-01,\n",
       "       1.83845425e-01, 6.90624997e-01, 3.89271527e-01, 8.58942612e-01,\n",
       "       3.82507762e-01, 6.09188750e-01, 1.86814511e-01, 2.90568442e-01,\n",
       "       1.43055666e-01, 5.99606829e-01, 1.06578083e-01, 4.75957231e-01,\n",
       "       8.21609763e-01, 8.59306424e-01, 1.12313866e-01, 3.92063168e-02,\n",
       "       6.90254634e-01, 3.56547144e-01, 2.53209985e-01, 9.45813698e-01,\n",
       "       1.33362040e-01, 4.97550807e-01, 9.12090530e-02, 1.45248062e-04,\n",
       "       4.81926441e-01, 6.37658862e-01, 8.32921167e-01, 7.98318808e-01,\n",
       "       6.95021965e-01, 1.59283937e-01, 5.25024195e-01, 5.51545622e-01,\n",
       "       1.47874023e-01, 4.45161074e-02, 8.35832775e-01, 8.11857270e-01,\n",
       "       2.18693357e-01, 1.68472942e-02, 9.86172122e-01, 3.22841469e-02,\n",
       "       1.33952451e-01, 6.71834876e-01, 6.05398597e-01, 4.09549526e-01,\n",
       "       8.65551612e-01, 4.53666634e-01, 5.16225183e-02, 5.78579749e-01,\n",
       "       6.77422122e-01, 2.54801187e-01, 7.24539470e-01, 7.19847957e-01,\n",
       "       3.63751603e-02, 3.81357083e-01, 6.31325875e-01, 7.69406881e-01,\n",
       "       8.24620623e-01, 6.95982811e-01, 5.60491600e-01, 7.99513213e-02,\n",
       "       2.40907438e-02, 6.52369068e-02, 6.38620426e-01, 2.72827142e-01,\n",
       "       8.28848566e-01, 8.14356660e-01, 6.12126026e-01, 5.28184169e-01,\n",
       "       5.45124695e-01, 9.25079722e-01, 7.91630340e-01, 4.58158113e-01,\n",
       "       4.03370138e-01, 3.32827859e-01, 8.54335070e-01, 3.34674373e-02,\n",
       "       7.96447384e-04, 3.21527094e-01, 8.83323010e-01, 8.80893112e-02,\n",
       "       6.24441372e-01, 5.67152015e-01, 3.48261835e-01, 3.81211081e-01,\n",
       "       8.71634907e-01, 4.84378573e-01, 9.00405001e-02, 7.78012259e-02,\n",
       "       8.99863044e-01, 4.13020007e-01, 7.98068180e-01, 4.82047270e-01,\n",
       "       6.80172613e-01, 6.43085869e-01, 8.48172576e-01, 1.80992519e-01,\n",
       "       7.20813803e-01, 5.69197926e-01, 6.90220414e-01, 5.28680147e-01,\n",
       "       7.68429360e-01, 9.88939085e-02, 8.17623550e-01, 5.72925839e-01,\n",
       "       7.64358736e-01, 8.59802419e-01, 8.26040486e-01, 2.04323394e-01,\n",
       "       3.67379685e-01, 8.97574803e-01, 8.89527644e-01, 1.24465004e-01,\n",
       "       1.40930776e-01, 1.16014670e-01, 7.52606896e-02, 8.90540700e-01,\n",
       "       3.00411844e-01, 5.12171677e-01, 5.06592937e-01, 4.86031479e-01,\n",
       "       4.94576802e-01, 2.68060445e-01, 9.86503574e-01, 1.86271919e-01,\n",
       "       6.39630555e-01, 5.52073456e-01, 3.83952185e-01, 3.28167204e-01,\n",
       "       3.41669086e-01, 3.64432129e-01, 7.64288898e-01, 2.78634669e-01,\n",
       "       7.54851338e-01, 5.65529844e-01, 6.38785806e-01, 4.86571500e-01,\n",
       "       8.07425133e-01, 5.96097169e-01, 7.45952013e-01, 1.91683475e-01,\n",
       "       9.03026533e-01, 2.81024970e-01, 2.07684367e-01, 3.85065548e-01,\n",
       "       4.74600285e-01, 9.36282646e-01, 4.82413632e-01, 6.92378214e-03,\n",
       "       5.71337904e-01, 9.83752699e-01, 8.65335886e-01, 2.79281539e-01,\n",
       "       5.58575474e-01, 6.91268101e-01, 2.88884781e-01, 5.14482124e-01,\n",
       "       4.00683640e-01, 2.79234656e-01, 2.65026607e-01, 9.36916024e-01,\n",
       "       4.69783034e-01, 7.34024773e-01, 7.89241735e-01, 2.97357258e-01,\n",
       "       7.73303286e-01, 2.06937110e-01, 8.45099317e-01, 9.03930823e-01,\n",
       "       6.26414314e-02, 4.21571381e-01, 6.03075671e-02, 8.87536070e-01,\n",
       "       8.38777110e-01, 8.03011988e-01, 7.53713860e-01, 1.88258803e-01,\n",
       "       1.61972745e-03, 9.86606019e-01, 8.42811437e-01, 3.02546177e-02,\n",
       "       6.97426039e-01, 3.30428809e-01, 8.28921449e-01, 8.03818201e-01,\n",
       "       2.21916310e-01, 1.80698257e-02, 8.76107406e-01, 8.56416803e-01,\n",
       "       8.29658996e-01, 7.20741569e-02, 4.48715552e-01, 3.63997593e-01,\n",
       "       7.05908145e-01, 2.72579201e-01, 4.77541690e-01, 4.89433025e-01,\n",
       "       5.56169495e-01, 1.68245171e-01, 8.63066456e-01, 4.08570340e-01,\n",
       "       6.79767354e-01, 9.32428942e-01, 4.41971612e-01, 6.24564637e-01,\n",
       "       2.25593247e-01, 5.48054411e-02, 2.26102390e-01, 9.47316392e-01,\n",
       "       2.14418962e-02, 3.38332064e-01, 5.18492365e-01, 3.48540050e-01,\n",
       "       3.37290186e-01, 3.24187398e-01, 2.71361404e-01, 7.79432656e-01,\n",
       "       8.84888404e-01, 4.88165523e-02, 9.91142472e-01, 5.31853282e-01,\n",
       "       1.79932407e-01, 2.04289799e-01, 7.08734958e-02, 1.77002364e-01,\n",
       "       5.70414145e-01, 7.56747387e-01, 9.59002811e-01, 9.82065913e-01,\n",
       "       5.11468011e-01, 1.87222567e-01, 1.85528988e-01, 2.10702469e-01,\n",
       "       6.74619669e-01, 5.78145878e-01, 7.55078463e-01, 8.02819000e-01,\n",
       "       1.34543105e-01, 3.05648018e-01, 2.90401478e-01, 6.28492749e-01,\n",
       "       3.79488058e-01, 5.86141256e-01, 3.73732603e-01, 2.78414096e-01,\n",
       "       9.36362346e-01, 2.23536987e-01, 1.67675502e-01, 1.89213946e-02,\n",
       "       7.62374512e-01, 9.50519908e-01, 2.59630177e-01, 1.12016269e-01,\n",
       "       1.28346060e-01, 1.16933430e-01, 2.62659432e-01, 4.21022450e-01,\n",
       "       4.81531250e-01, 8.60947701e-01, 7.60979071e-01, 4.81206062e-01,\n",
       "       9.15837687e-01, 1.63022713e-01, 6.12062845e-01, 5.65278431e-01,\n",
       "       1.10543462e-01, 6.48164258e-01, 3.52693959e-01, 7.23065574e-02,\n",
       "       3.21308082e-01, 2.23727476e-01, 6.85296171e-01, 2.30996890e-01,\n",
       "       4.30215826e-01, 7.52802029e-01, 6.02038993e-01, 1.45152798e-01,\n",
       "       5.85966709e-01, 4.46012271e-01, 4.00303128e-01, 5.91814961e-01,\n",
       "       5.57571546e-02, 9.20493044e-01, 4.36867566e-02, 3.53392860e-01,\n",
       "       5.63762898e-01, 9.70314752e-01, 6.49084765e-01, 9.45486236e-01,\n",
       "       5.67601184e-01, 4.36984424e-01, 3.61166922e-01, 4.41164918e-01,\n",
       "       3.14105439e-01, 9.81688036e-01, 2.20918923e-01, 9.06269315e-02,\n",
       "       9.76297876e-01, 9.82635157e-01, 7.55566539e-01, 7.99696056e-01,\n",
       "       1.93109470e-01, 8.04451761e-01, 3.70406899e-01, 7.56804431e-01,\n",
       "       6.19239699e-01, 4.39806068e-01, 4.93382543e-01, 4.84105673e-02,\n",
       "       5.98636739e-01, 4.69244163e-01, 8.57583030e-02, 1.93353749e-01,\n",
       "       1.01107365e-01, 6.39214666e-01, 9.32605226e-01, 6.39115121e-01,\n",
       "       4.78258460e-01, 2.93471503e-01, 5.72516160e-02, 3.70593229e-02,\n",
       "       8.79221951e-01, 1.99583761e-01, 4.30644675e-01, 6.40734638e-01,\n",
       "       2.69077904e-01, 9.14780878e-01, 2.98162268e-01, 2.70732757e-02,\n",
       "       5.17819118e-01, 9.61549606e-01, 7.38254231e-01, 1.16719777e-01,\n",
       "       8.27226662e-01, 3.79448720e-01, 3.56073481e-01, 6.57154581e-01,\n",
       "       1.32167791e-03, 5.43116528e-01, 3.67619844e-01, 2.41557671e-01,\n",
       "       6.92355694e-01, 8.17980690e-02, 3.55715789e-01, 4.85944063e-01,\n",
       "       5.79527405e-01, 8.28971555e-01, 5.87430683e-01, 4.15841866e-01,\n",
       "       6.31194878e-01, 5.86270389e-01, 4.75322178e-01, 6.92252480e-01,\n",
       "       3.79261160e-01, 3.94310293e-01, 8.20901801e-01, 9.01037329e-01,\n",
       "       9.40409102e-01, 7.00841891e-01, 3.89302806e-01, 1.04571033e-01,\n",
       "       6.92013642e-01, 4.41395508e-01, 3.70482195e-01, 8.08027404e-02,\n",
       "       6.71831137e-02, 6.67458785e-01, 4.33851454e-01, 5.45462019e-01,\n",
       "       1.81841010e-01, 3.81499202e-01, 4.33843430e-01, 1.14574866e-01,\n",
       "       3.64876191e-01, 4.56204024e-01, 9.24109779e-01, 5.03176112e-01,\n",
       "       9.12868802e-01, 8.11756162e-01, 3.42460235e-01, 2.93468531e-01,\n",
       "       2.64838064e-01, 2.29334169e-01, 4.88246412e-01, 2.18299362e-01,\n",
       "       9.87342027e-01, 3.37578267e-01, 8.16172260e-01, 1.50511942e-01,\n",
       "       2.68635988e-01, 9.92923211e-01, 4.31308835e-01, 2.55142325e-02,\n",
       "       1.39067207e-01, 2.96447138e-01, 1.42161435e-02, 3.90920522e-01,\n",
       "       9.00459543e-01, 2.28208213e-01, 9.82807233e-01, 9.14485805e-01,\n",
       "       1.78210560e-01, 6.15811545e-01, 3.68523575e-01, 6.77895205e-01,\n",
       "       3.60635057e-01, 2.05982287e-01, 4.20585913e-01, 6.29080000e-01,\n",
       "       7.29876236e-01, 8.04122855e-01, 6.46964673e-01, 5.03513649e-02,\n",
       "       9.62777369e-01, 7.82051403e-02, 7.21049008e-01, 6.17261308e-01,\n",
       "       8.22015225e-01, 1.85323628e-02, 1.71503882e-01, 7.03464721e-01,\n",
       "       1.25248744e-01, 9.65408874e-02, 7.71572007e-01, 9.04795836e-01,\n",
       "       8.68333271e-01, 2.73299491e-02, 5.86393900e-01, 5.92994994e-01,\n",
       "       7.55814248e-02, 7.11479929e-01, 2.07045089e-01, 9.55358774e-01,\n",
       "       5.79557161e-01, 3.23131024e-01, 7.66952491e-01, 5.07456200e-01,\n",
       "       8.04501953e-01, 2.37007338e-01, 1.27083987e-01, 6.46921501e-01,\n",
       "       9.84894105e-01, 2.65807805e-01, 4.55181433e-01, 7.34094026e-01,\n",
       "       9.09518478e-01, 3.88136930e-01, 4.03638728e-01, 2.92902528e-01,\n",
       "       3.80866919e-01, 2.14781856e-01, 2.83320573e-01, 1.35510965e-01,\n",
       "       1.31086779e-01, 9.69233215e-02, 8.60676607e-01, 5.97873498e-01,\n",
       "       2.33765118e-02, 7.19628911e-01, 3.91323010e-01, 2.10614901e-01,\n",
       "       4.41603006e-01, 5.37475480e-01, 4.85542326e-01, 6.33020698e-01])"
      ]
     },
     "execution_count": 49,
     "metadata": {},
     "output_type": "execute_result"
    }
   ],
   "source": [
    "massive_array[:1000]"
   ]
  },
  {
   "cell_type": "code",
   "execution_count": 51,
   "id": "a7abfbd4-52c5-4acc-8989-705d58df88e0",
   "metadata": {},
   "outputs": [
    {
     "name": "stdout",
     "output_type": "stream",
     "text": [
      "73.4 ms ± 501 µs per loop (mean ± std. dev. of 7 runs, 10 loops each)\n",
      "302 µs ± 1.14 µs per loop (mean ± std. dev. of 7 runs, 1,000 loops each)\n"
     ]
    }
   ],
   "source": [
    "%timeit sum(massive_array) #In built Python Sum\n",
    "%timeit np.sum(massive_array) #NumPy's Sum"
   ]
  },
  {
   "cell_type": "code",
   "execution_count": 52,
   "id": "f9019728-450b-4279-a7a8-0901239a81f0",
   "metadata": {},
   "outputs": [
    {
     "data": {
      "text/plain": [
       "array([[1. , 2. , 3.3],\n",
       "       [4. , 5. , 6.5]])"
      ]
     },
     "execution_count": 52,
     "metadata": {},
     "output_type": "execute_result"
    }
   ],
   "source": [
    "a2"
   ]
  },
  {
   "cell_type": "code",
   "execution_count": 54,
   "id": "5db1995c-0c5b-476e-ba7b-059b33e2b6a9",
   "metadata": {},
   "outputs": [
    {
     "data": {
      "text/plain": [
       "3.6333333333333333"
      ]
     },
     "execution_count": 54,
     "metadata": {},
     "output_type": "execute_result"
    }
   ],
   "source": [
    "np.mean(a2)"
   ]
  },
  {
   "cell_type": "code",
   "execution_count": 55,
   "id": "625ec64f-8892-4db3-a8f3-26a927300d2c",
   "metadata": {},
   "outputs": [
    {
     "data": {
      "text/plain": [
       "6.5"
      ]
     },
     "execution_count": 55,
     "metadata": {},
     "output_type": "execute_result"
    }
   ],
   "source": [
    "np.max(a2)"
   ]
  },
  {
   "cell_type": "code",
   "execution_count": 56,
   "id": "16f26372-2f4c-448e-bbe1-200206258826",
   "metadata": {},
   "outputs": [
    {
     "data": {
      "text/plain": [
       "1.0"
      ]
     },
     "execution_count": 56,
     "metadata": {},
     "output_type": "execute_result"
    }
   ],
   "source": [
    "np.min(a2)"
   ]
  },
  {
   "cell_type": "code",
   "execution_count": 59,
   "id": "af717751-1a75-4309-93e5-7dce3ae9b3cc",
   "metadata": {},
   "outputs": [
    {
     "data": {
      "text/plain": [
       "1.8226964152656422"
      ]
     },
     "execution_count": 59,
     "metadata": {},
     "output_type": "execute_result"
    }
   ],
   "source": [
    "# The Standard Deviation is a measure of how spread out numbers are.\n",
    "np.std(a2)"
   ]
  },
  {
   "cell_type": "code",
   "execution_count": 60,
   "id": "52df170e-0364-4b1a-8c8d-a6cbead38668",
   "metadata": {},
   "outputs": [
    {
     "data": {
      "text/plain": [
       "3.3222222222222224"
      ]
     },
     "execution_count": 60,
     "metadata": {},
     "output_type": "execute_result"
    }
   ],
   "source": [
    "# The average of the squared differences from the Mean.\n",
    "# High Variance = Data is More Spread Out\n",
    "np.var(a2)"
   ]
  },
  {
   "cell_type": "code",
   "execution_count": null,
   "id": "feb62466-9b4d-4fce-bab6-ce2208e33190",
   "metadata": {},
   "outputs": [],
   "source": []
  }
 ],
 "metadata": {
  "kernelspec": {
   "display_name": "Python 3 (ipykernel)",
   "language": "python",
   "name": "python3"
  },
  "language_info": {
   "codemirror_mode": {
    "name": "ipython",
    "version": 3
   },
   "file_extension": ".py",
   "mimetype": "text/x-python",
   "name": "python",
   "nbconvert_exporter": "python",
   "pygments_lexer": "ipython3",
   "version": "3.12.3"
  }
 },
 "nbformat": 4,
 "nbformat_minor": 5
}
