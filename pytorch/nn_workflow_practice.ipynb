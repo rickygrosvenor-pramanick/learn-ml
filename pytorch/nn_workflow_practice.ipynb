{
  "nbformat": 4,
  "nbformat_minor": 0,
  "metadata": {
    "colab": {
      "provenance": [],
      "authorship_tag": "ABX9TyMF7jw4jErLNqato/iKhW79",
      "include_colab_link": true
    },
    "kernelspec": {
      "name": "python3",
      "display_name": "Python 3"
    },
    "language_info": {
      "name": "python"
    }
  },
  "cells": [
    {
      "cell_type": "markdown",
      "metadata": {
        "id": "view-in-github",
        "colab_type": "text"
      },
      "source": [
        "<a href=\"https://colab.research.google.com/github/rickygrosvenor-pramanick/learn-ml/blob/main/pytorch/nn_workflow_practice.ipynb\" target=\"_parent\"><img src=\"https://colab.research.google.com/assets/colab-badge.svg\" alt=\"Open In Colab\"/></a>"
      ]
    },
    {
      "cell_type": "code",
      "execution_count": 2,
      "metadata": {
        "id": "RycF4CzogF8e"
      },
      "outputs": [],
      "source": [
        "# Create Dataset\n",
        "from sklearn.datasets import make_circles\n",
        "\n",
        "X, y = make_circles(n_samples=1000,\n",
        "                    noise=0.7,\n",
        "                    factor=0.8,\n",
        "                    random_state=42)"
      ]
    },
    {
      "cell_type": "code",
      "source": [
        "# Convert to Tensors\n",
        "import torch\n",
        "\n",
        "X = torch.from_numpy(X).type(torch.float)\n",
        "y = torch.from_numpy(y).type(torch.float)"
      ],
      "metadata": {
        "id": "saSwPWAQgrGr"
      },
      "execution_count": 3,
      "outputs": []
    },
    {
      "cell_type": "code",
      "source": [
        "# Train-Test Split\n",
        "from sklearn.model_selection import train_test_split\n",
        "\n",
        "X_train, X_test, y_train, y_test = train_test_split(X, y, test_size=0.2, random_state=42)"
      ],
      "metadata": {
        "id": "TaBKyDVBg-BX"
      },
      "execution_count": 4,
      "outputs": []
    },
    {
      "cell_type": "code",
      "source": [
        "# Agnostic Code\n",
        "import torch\n",
        "from torch import nn\n",
        "\n",
        "device = \"cuda\" if torch.cuda.is_available() else \"cpu\""
      ],
      "metadata": {
        "id": "KVIAfeXBhWHr"
      },
      "execution_count": 5,
      "outputs": []
    },
    {
      "cell_type": "code",
      "source": [
        "# Investigate Data Format\n",
        "# X gives 2 numbers as input, y returns 1 number as output\n",
        "X_train[:5], y_train[:5]"
      ],
      "metadata": {
        "colab": {
          "base_uri": "https://localhost:8080/"
        },
        "id": "U9Ts3pSah9Di",
        "outputId": "e765e3b2-911c-4d63-bb6e-0128b2c6395f"
      },
      "execution_count": 6,
      "outputs": [
        {
          "output_type": "execute_result",
          "data": {
            "text/plain": [
              "(tensor([[ 1.3037,  0.1872],\n",
              "         [-0.3370, -0.6710],\n",
              "         [-1.4545,  0.4610],\n",
              "         [-0.7890, -0.2558],\n",
              "         [-0.0992,  1.1932]]),\n",
              " tensor([1., 0., 0., 0., 1.]))"
            ]
          },
          "metadata": {},
          "execution_count": 6
        }
      ]
    },
    {
      "cell_type": "code",
      "source": [
        "# Create Model Class\n",
        "class CircleModelV1(nn.Module):\n",
        "  def __init__(self):\n",
        "    super().__init__()\n",
        "    self.layer_1 = nn.Linear(in_features=2, out_features=8)\n",
        "    self.layer_2 = nn.Linear(in_features=8, out_features=3)\n",
        "    self.layer_3 = nn.Linear(in_features=3, out_features=1)\n",
        "\n",
        "  def forward(self, x):\n",
        "    return self.layer_3(self.layer_2(self.layer_1(x)))"
      ],
      "metadata": {
        "id": "SOjC6JMchlBh"
      },
      "execution_count": 7,
      "outputs": []
    },
    {
      "cell_type": "code",
      "source": [
        "# Create Model Instance\n",
        "model1 = CircleModelV1().to(device)\n",
        "model1"
      ],
      "metadata": {
        "colab": {
          "base_uri": "https://localhost:8080/"
        },
        "id": "U_7zDS6sitO2",
        "outputId": "20724ce9-d8ca-403d-8f56-014fad9bbe99"
      },
      "execution_count": 8,
      "outputs": [
        {
          "output_type": "execute_result",
          "data": {
            "text/plain": [
              "CircleModelV1(\n",
              "  (layer_1): Linear(in_features=2, out_features=8, bias=True)\n",
              "  (layer_2): Linear(in_features=8, out_features=3, bias=True)\n",
              "  (layer_3): Linear(in_features=3, out_features=1, bias=True)\n",
              ")"
            ]
          },
          "metadata": {},
          "execution_count": 8
        }
      ]
    },
    {
      "cell_type": "code",
      "source": [
        "# Initial Predictions without Training\n",
        "import math\n",
        "with torch.inference_mode():\n",
        "  untrained_preds = model1(X_test.to(device))\n",
        "  untrained_preds_to_int = untrained_preds.round()\n",
        "untrained_preds[:5], untrained_preds_to_int[:5], y_test[:5]"
      ],
      "metadata": {
        "colab": {
          "base_uri": "https://localhost:8080/"
        },
        "id": "R-Rkgb8Gi1_d",
        "outputId": "4f3df58b-bc6c-4a89-bf35-f2e176664eb1"
      },
      "execution_count": 31,
      "outputs": [
        {
          "output_type": "execute_result",
          "data": {
            "text/plain": [
              "(tensor([[ 0.3045],\n",
              "         [ 0.5390],\n",
              "         [ 0.2294],\n",
              "         [ 0.5790],\n",
              "         [-0.0679]]),\n",
              " tensor([[0.],\n",
              "         [1.],\n",
              "         [0.],\n",
              "         [1.],\n",
              "         [-0.]]),\n",
              " tensor([1., 0., 1., 0., 1.]))"
            ]
          },
          "metadata": {},
          "execution_count": 31
        }
      ]
    },
    {
      "cell_type": "code",
      "source": [
        "# Create a loss function\n",
        "\n",
        "# For Regression, you may want MSE or MAE\n",
        "# For Classification, Binary Cross Entropy or Categorical Cross Entropy\n",
        "\n",
        "loss_fn = nn.BCELoss() # requires inputs to have gone through the sigmoid activation function prior to input\n",
        "\n",
        "# loss_fn = nn.BCEWithLogitsLoss() # has sigmoid activation function built in\n",
        "# This is somewhat similar to\n",
        "# nn.Sequential(\n",
        "#     nn.Sigmoid(),\n",
        "#     nn.BCELoss()\n",
        "# )\n",
        "# nn.BCEWithLogitsLoss() is more numerically stable than plain nn.Sigmoid->nn.BCELoss but we'll do it the other way\n",
        "# to get a sense of the work better\n",
        "\n",
        "optimiser = torch.optim.SGD(params=model1.parameters(), lr=0.1)\n"
      ],
      "metadata": {
        "id": "o87Aw9o6Zy_x"
      },
      "execution_count": 32,
      "outputs": []
    },
    {
      "cell_type": "code",
      "source": [
        "# parameters getting updated by SGD\n",
        "model1.state_dict()"
      ],
      "metadata": {
        "colab": {
          "base_uri": "https://localhost:8080/"
        },
        "id": "KbAepHKO0a2I",
        "outputId": "3811a683-68cf-477f-e3e4-a05811544b95"
      },
      "execution_count": 34,
      "outputs": [
        {
          "output_type": "execute_result",
          "data": {
            "text/plain": [
              "OrderedDict([('layer_1.weight',\n",
              "              tensor([[ 0.6559,  0.6475],\n",
              "                      [-0.2728, -0.0245],\n",
              "                      [-0.6433, -0.2504],\n",
              "                      [-0.2940, -0.4931],\n",
              "                      [ 0.6968, -0.6576],\n",
              "                      [-0.2427,  0.5973],\n",
              "                      [-0.6657, -0.5961],\n",
              "                      [-0.4022,  0.4858]])),\n",
              "             ('layer_1.bias',\n",
              "              tensor([ 0.1872,  0.3923, -0.1614, -0.6161, -0.1182,  0.0104, -0.1730, -0.6483])),\n",
              "             ('layer_2.weight',\n",
              "              tensor([[ 0.2580, -0.1306,  0.3463, -0.1854, -0.0450, -0.1453, -0.0555,  0.0951],\n",
              "                      [ 0.1459, -0.2665,  0.2170,  0.2830, -0.0563, -0.3383,  0.2932,  0.3381],\n",
              "                      [-0.0817, -0.1348,  0.3110,  0.1524,  0.1587, -0.1425, -0.1264,  0.2304]])),\n",
              "             ('layer_2.bias', tensor([-0.3515, -0.1798,  0.0155])),\n",
              "             ('layer_3.weight', tensor([[-0.1521, -0.5621, -0.0147]])),\n",
              "             ('layer_3.bias', tensor([-0.2216]))])"
            ]
          },
          "metadata": {},
          "execution_count": 34
        }
      ]
    },
    {
      "cell_type": "code",
      "source": [],
      "metadata": {
        "id": "ky81QeJd0diY"
      },
      "execution_count": null,
      "outputs": []
    }
  ]
}