{
  "nbformat": 4,
  "nbformat_minor": 0,
  "metadata": {
    "colab": {
      "provenance": [],
      "authorship_tag": "ABX9TyPaNzpjNbfdppfDmipL+Pw8",
      "include_colab_link": true
    },
    "kernelspec": {
      "name": "python3",
      "display_name": "Python 3"
    },
    "language_info": {
      "name": "python"
    }
  },
  "cells": [
    {
      "cell_type": "markdown",
      "metadata": {
        "id": "view-in-github",
        "colab_type": "text"
      },
      "source": [
        "<a href=\"https://colab.research.google.com/github/rickygrosvenor-pramanick/learn-ml/blob/main/pytorch/nn_workflow_practice.ipynb\" target=\"_parent\"><img src=\"https://colab.research.google.com/assets/colab-badge.svg\" alt=\"Open In Colab\"/></a>"
      ]
    },
    {
      "cell_type": "code",
      "execution_count": 1,
      "metadata": {
        "id": "RycF4CzogF8e"
      },
      "outputs": [],
      "source": [
        "# Create Dataset\n",
        "from sklearn.datasets import make_circles\n",
        "\n",
        "X, y = make_circles(n_samples=1000,\n",
        "                    noise=0.7,\n",
        "                    factor=0.8,\n",
        "                    random_state=42)"
      ]
    },
    {
      "cell_type": "code",
      "source": [
        "# Convert to Tensors\n",
        "import torch\n",
        "\n",
        "X = torch.from_numpy(X).type(torch.float)\n",
        "y = torch.from_numpy(y).type(torch.float)"
      ],
      "metadata": {
        "id": "saSwPWAQgrGr"
      },
      "execution_count": 2,
      "outputs": []
    },
    {
      "cell_type": "code",
      "source": [
        "# Train-Test Split\n",
        "from sklearn.model_selection import train_test_split\n",
        "\n",
        "X_train, X_test, y_train, y_test = train_test_split(X, y, test_size=0.2, random_state=42)"
      ],
      "metadata": {
        "id": "TaBKyDVBg-BX"
      },
      "execution_count": 3,
      "outputs": []
    },
    {
      "cell_type": "code",
      "source": [
        "# Agnostic Code\n",
        "import torch\n",
        "from torch import nn\n",
        "\n",
        "device = \"cuda\" if torch.cuda.is_available() else \"cpu\""
      ],
      "metadata": {
        "id": "KVIAfeXBhWHr"
      },
      "execution_count": 4,
      "outputs": []
    },
    {
      "cell_type": "code",
      "source": [
        "# Investigate Data Format\n",
        "# X gives 2 numbers as input, y returns 1 number as output\n",
        "X_train[:5], y_train[:5]"
      ],
      "metadata": {
        "colab": {
          "base_uri": "https://localhost:8080/"
        },
        "id": "U9Ts3pSah9Di",
        "outputId": "569f9f21-4ff8-49ad-dbe1-c727cc7c065a"
      },
      "execution_count": 6,
      "outputs": [
        {
          "output_type": "execute_result",
          "data": {
            "text/plain": [
              "(tensor([[ 1.3037,  0.1872],\n",
              "         [-0.3370, -0.6710],\n",
              "         [-1.4545,  0.4610],\n",
              "         [-0.7890, -0.2558],\n",
              "         [-0.0992,  1.1932]]),\n",
              " tensor([1., 0., 0., 0., 1.]))"
            ]
          },
          "metadata": {},
          "execution_count": 6
        }
      ]
    },
    {
      "cell_type": "code",
      "source": [
        "# Create Model Class\n",
        "class CircleModelV1(nn.Module):\n",
        "  def __init__(self):\n",
        "    super().__init__()\n",
        "    self.layer_1 = nn.Linear(in_features=2, out_features=8)\n",
        "    self.layer_2 = nn.Linear(in_features=8, out_features=3)\n",
        "    self.layer_3 = nn.Linear(in_features=3, out_features=1)\n",
        "\n",
        "  def forward(self, x):\n",
        "    return self.layer_3(self.layer_2(self.layer_1(x)))"
      ],
      "metadata": {
        "id": "SOjC6JMchlBh"
      },
      "execution_count": 7,
      "outputs": []
    },
    {
      "cell_type": "code",
      "source": [
        "# Create Model Instance\n",
        "model1 = CircleModelV1().to(device)\n",
        "model1"
      ],
      "metadata": {
        "colab": {
          "base_uri": "https://localhost:8080/"
        },
        "id": "U_7zDS6sitO2",
        "outputId": "994fff4d-2696-4c2d-b839-b483211e025b"
      },
      "execution_count": 8,
      "outputs": [
        {
          "output_type": "execute_result",
          "data": {
            "text/plain": [
              "CircleModelV1(\n",
              "  (layer_1): Linear(in_features=2, out_features=6, bias=True)\n",
              "  (layer_2): Linear(in_features=6, out_features=3, bias=True)\n",
              "  (layer_3): Linear(in_features=3, out_features=1, bias=True)\n",
              ")"
            ]
          },
          "metadata": {},
          "execution_count": 8
        }
      ]
    },
    {
      "cell_type": "code",
      "source": [],
      "metadata": {
        "id": "R-Rkgb8Gi1_d"
      },
      "execution_count": null,
      "outputs": []
    }
  ]
}