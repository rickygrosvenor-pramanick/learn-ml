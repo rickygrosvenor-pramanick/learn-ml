{
  "nbformat": 4,
  "nbformat_minor": 0,
  "metadata": {
    "colab": {
      "provenance": [],
      "authorship_tag": "ABX9TyPAGIGy8EG7R8eVKza+JNRi",
      "include_colab_link": true
    },
    "kernelspec": {
      "name": "python3",
      "display_name": "Python 3"
    },
    "language_info": {
      "name": "python"
    }
  },
  "cells": [
    {
      "cell_type": "markdown",
      "metadata": {
        "id": "view-in-github",
        "colab_type": "text"
      },
      "source": [
        "<a href=\"https://colab.research.google.com/github/rickygrosvenor-pramanick/learn-ml/blob/main/pytorch/nn_workflow_practice.ipynb\" target=\"_parent\"><img src=\"https://colab.research.google.com/assets/colab-badge.svg\" alt=\"Open In Colab\"/></a>"
      ]
    },
    {
      "cell_type": "code",
      "execution_count": 2,
      "metadata": {
        "id": "RycF4CzogF8e"
      },
      "outputs": [],
      "source": [
        "# Create Dataset\n",
        "from sklearn.datasets import make_circles\n",
        "\n",
        "X, y = make_circles(n_samples=1000,\n",
        "                    noise=0.7,\n",
        "                    factor=0.8,\n",
        "                    random_state=42)"
      ]
    },
    {
      "cell_type": "code",
      "source": [
        "# Convert to Tensors\n",
        "import torch\n",
        "\n",
        "X = torch.from_numpy(X).type(torch.float)\n",
        "y = torch.from_numpy(y).type(torch.float)"
      ],
      "metadata": {
        "id": "saSwPWAQgrGr"
      },
      "execution_count": 3,
      "outputs": []
    },
    {
      "cell_type": "code",
      "source": [
        "# Train-Test Split\n",
        "from sklearn.model_selection import train_test_split\n",
        "\n",
        "X_train, X_test, y_train, y_test = train_test_split(X, y, test_size=0.2, random_state=42)"
      ],
      "metadata": {
        "id": "TaBKyDVBg-BX"
      },
      "execution_count": 4,
      "outputs": []
    },
    {
      "cell_type": "code",
      "source": [
        "# Agnostic Code\n",
        "import torch\n",
        "from torch import nn\n",
        "\n",
        "device = \"cuda\" if torch.cuda.is_available() else \"cpu\""
      ],
      "metadata": {
        "id": "KVIAfeXBhWHr"
      },
      "execution_count": 5,
      "outputs": []
    },
    {
      "cell_type": "code",
      "source": [
        "# Investigate Data Format\n",
        "# X gives 2 numbers as input, y returns 1 number as output\n",
        "X_train[:5], y_train[:5]"
      ],
      "metadata": {
        "colab": {
          "base_uri": "https://localhost:8080/"
        },
        "id": "U9Ts3pSah9Di",
        "outputId": "ac329337-e072-414b-e097-63af647e0d2f"
      },
      "execution_count": 6,
      "outputs": [
        {
          "output_type": "execute_result",
          "data": {
            "text/plain": [
              "(tensor([[ 1.3037,  0.1872],\n",
              "         [-0.3370, -0.6710],\n",
              "         [-1.4545,  0.4610],\n",
              "         [-0.7890, -0.2558],\n",
              "         [-0.0992,  1.1932]]),\n",
              " tensor([1., 0., 0., 0., 1.]))"
            ]
          },
          "metadata": {},
          "execution_count": 6
        }
      ]
    },
    {
      "cell_type": "code",
      "source": [
        "# Create Model Class\n",
        "class CircleModelV1(nn.Module):\n",
        "  def __init__(self):\n",
        "    super().__init__()\n",
        "    self.layer_1 = nn.Linear(in_features=2, out_features=8)\n",
        "    self.layer_2 = nn.Linear(in_features=8, out_features=3)\n",
        "    self.layer_3 = nn.Linear(in_features=3, out_features=1)\n",
        "\n",
        "  def forward(self, x):\n",
        "    return self.layer_3(self.layer_2(self.layer_1(x)))"
      ],
      "metadata": {
        "id": "SOjC6JMchlBh"
      },
      "execution_count": 7,
      "outputs": []
    },
    {
      "cell_type": "code",
      "source": [
        "# Create Model Instance\n",
        "model1 = CircleModelV1().to(device)\n",
        "model1"
      ],
      "metadata": {
        "colab": {
          "base_uri": "https://localhost:8080/"
        },
        "id": "U_7zDS6sitO2",
        "outputId": "b8ba6afc-0d1e-4046-db45-22e3c1f1ced9"
      },
      "execution_count": 8,
      "outputs": [
        {
          "output_type": "execute_result",
          "data": {
            "text/plain": [
              "CircleModelV1(\n",
              "  (layer_1): Linear(in_features=2, out_features=8, bias=True)\n",
              "  (layer_2): Linear(in_features=8, out_features=3, bias=True)\n",
              "  (layer_3): Linear(in_features=3, out_features=1, bias=True)\n",
              ")"
            ]
          },
          "metadata": {},
          "execution_count": 8
        }
      ]
    },
    {
      "cell_type": "code",
      "source": [
        "# Initial Predictions without Training\n",
        "import math\n",
        "with torch.inference_mode():\n",
        "  untrained_preds = model1(X_test.to(device))\n",
        "untrained_preds[:5], y_test[:5]"
      ],
      "metadata": {
        "colab": {
          "base_uri": "https://localhost:8080/"
        },
        "id": "R-Rkgb8Gi1_d",
        "outputId": "fde56574-d55e-44fe-8241-3bcfe8b32646"
      },
      "execution_count": 9,
      "outputs": [
        {
          "output_type": "execute_result",
          "data": {
            "text/plain": [
              "(tensor([[-0.0597],\n",
              "         [-0.1511],\n",
              "         [-0.0253],\n",
              "         [-0.1848],\n",
              "         [ 0.1243]]),\n",
              " tensor([1., 0., 1., 0., 1.]))"
            ]
          },
          "metadata": {},
          "execution_count": 9
        }
      ]
    },
    {
      "cell_type": "code",
      "source": [
        "# Create a loss function\n",
        "\n",
        "# For Regression, you may want MSE or MAE\n",
        "# For Classification, Binary Cross Entropy or Categorical Cross Entropy\n",
        "loss_fn = nn.BCELoss() # requires inputs to have gone through the sigmoid activation function prior to input\n",
        "\n",
        "# loss_fn = nn.BCEWithLogitsLoss() # has sigmoid activation function built in\n",
        "# This is somewhat similar to\n",
        "# nn.Sequential(\n",
        "#     nn.Sigmoid(),\n",
        "#     nn.BCELoss()\n",
        "# )\n",
        "# nn.BCEWithLogitsLoss() is more numerically stable than plain nn.Sigmoid->nn.BCELoss but we'll do it the other way\n",
        "# to get a sense of the work better\n",
        "\n",
        "optimiser = torch.optim.SGD(params=model1.parameters(), lr=0.1)\n"
      ],
      "metadata": {
        "id": "o87Aw9o6Zy_x"
      },
      "execution_count": 12,
      "outputs": []
    },
    {
      "cell_type": "code",
      "source": [
        "# parameters getting updated by SGD\n",
        "model1.state_dict()"
      ],
      "metadata": {
        "colab": {
          "base_uri": "https://localhost:8080/"
        },
        "id": "KbAepHKO0a2I",
        "outputId": "01b93daa-c742-4c8f-b0c8-800ab0ec000e"
      },
      "execution_count": 13,
      "outputs": [
        {
          "output_type": "execute_result",
          "data": {
            "text/plain": [
              "OrderedDict([('layer_1.weight',\n",
              "              tensor([[-0.7015,  0.2477],\n",
              "                      [-0.5769,  0.2338],\n",
              "                      [-0.0068, -0.4723],\n",
              "                      [ 0.6968,  0.6700],\n",
              "                      [ 0.5463, -0.0156],\n",
              "                      [ 0.2063,  0.5656],\n",
              "                      [-0.6739,  0.4205],\n",
              "                      [ 0.2840, -0.3270]])),\n",
              "             ('layer_1.bias',\n",
              "              tensor([-0.6278, -0.0966,  0.6565, -0.3960, -0.6639, -0.2961, -0.4961, -0.3444])),\n",
              "             ('layer_2.weight',\n",
              "              tensor([[ 0.0267, -0.1080, -0.0367, -0.3084, -0.0355, -0.1487,  0.0841,  0.0495],\n",
              "                      [ 0.3295, -0.1881, -0.1290,  0.1139,  0.2046,  0.1752, -0.0825, -0.1018],\n",
              "                      [ 0.0041,  0.3091, -0.0850,  0.2778,  0.0381, -0.0170, -0.2706,  0.0139]])),\n",
              "             ('layer_2.bias', tensor([ 0.2209, -0.2496,  0.1584])),\n",
              "             ('layer_3.weight', tensor([[ 0.1097,  0.0277, -0.2358]])),\n",
              "             ('layer_3.bias', tensor([-0.0321]))])"
            ]
          },
          "metadata": {},
          "execution_count": 13
        }
      ]
    },
    {
      "cell_type": "code",
      "source": [
        "tensor1 = torch.tensor([1, 2, 3])\n",
        "tensor2 = torch.tensor([1, 9, 3])\n",
        "torch.eq(tensor1, tensor2).sum(), torch.eq(tensor1, tensor2).sum().item(), torch.eq(tensor1, tensor2)"
      ],
      "metadata": {
        "colab": {
          "base_uri": "https://localhost:8080/"
        },
        "id": "uJr6NKeOQK64",
        "outputId": "873fd8bb-4ad3-462c-e5cd-3dd059bd8692"
      },
      "execution_count": 14,
      "outputs": [
        {
          "output_type": "execute_result",
          "data": {
            "text/plain": [
              "(tensor(2), 2, tensor([ True, False,  True]))"
            ]
          },
          "metadata": {},
          "execution_count": 14
        }
      ]
    },
    {
      "cell_type": "code",
      "source": [
        "# Create an Accuracy Function - https://www.youtube.com/watch?v=RYFViaaJxE8&ab_channel=MathsResource as a Percentage\n",
        "def accuracy_fn(y_true, y_pred):\n",
        "  correct = torch.eq(y_true, y_pred).sum().item()\n",
        "  accuracy = (correct/len(y_pred)) * 100\n",
        "  return accuracy"
      ],
      "metadata": {
        "id": "ky81QeJd0diY"
      },
      "execution_count": 15,
      "outputs": []
    },
    {
      "cell_type": "code",
      "source": [
        "# Train Model\n",
        "\n",
        "# Logits are the raw outputs of our models - output from the forward() function of our model class.\n",
        "# We want to go from logits -> prediction probabilities -> prediction label\n",
        "\n",
        "# We can convert Logits into Prediction Probabilities by passing them through an activation function\n",
        "# Generally sigmoid for binary classification and softmax for multiclass classification\n",
        "\n",
        "# Logits from Model Output\n",
        "y_logits = model1(X_test.to(device))\n",
        "\n",
        "# Pass through Sigmoid Function to get Prediction Probabilities\n",
        "y_pred_probs = torch.sigmoid(y_logits)\n",
        "\n",
        "# Round the Prediction Probabilities to get Classification Category or Prediction Label.\n",
        "y_preds = torch.round(y_pred_probs)\n",
        "y_preds[:5], y_test[:5]"
      ],
      "metadata": {
        "colab": {
          "base_uri": "https://localhost:8080/"
        },
        "id": "xrFSE7SkQTz0",
        "outputId": "9c251479-f107-4d74-c061-f38925e9a528"
      },
      "execution_count": 16,
      "outputs": [
        {
          "output_type": "execute_result",
          "data": {
            "text/plain": [
              "(tensor([[0.],\n",
              "         [0.],\n",
              "         [0.],\n",
              "         [0.],\n",
              "         [1.]], grad_fn=<SliceBackward0>),\n",
              " tensor([1., 0., 1., 0., 1.]))"
            ]
          },
          "metadata": {},
          "execution_count": 16
        }
      ]
    },
    {
      "cell_type": "code",
      "source": [
        "# As seen from above, y_preds has an extra redundant dimension\n",
        "y_preds.size()"
      ],
      "metadata": {
        "colab": {
          "base_uri": "https://localhost:8080/"
        },
        "id": "4gj50IhlUVo2",
        "outputId": "15bf7041-4798-46a5-946d-7d48668dc6ae"
      },
      "execution_count": 17,
      "outputs": [
        {
          "output_type": "execute_result",
          "data": {
            "text/plain": [
              "torch.Size([200, 1])"
            ]
          },
          "metadata": {},
          "execution_count": 17
        }
      ]
    },
    {
      "cell_type": "code",
      "source": [
        "# So we squeeze the Tensor\n",
        "y_preds.squeeze()[:5], y_test[:5]"
      ],
      "metadata": {
        "colab": {
          "base_uri": "https://localhost:8080/"
        },
        "id": "dpMKZkOGVQCU",
        "outputId": "17c2d1bb-d141-44d4-8fe8-37b7cf219c16"
      },
      "execution_count": 18,
      "outputs": [
        {
          "output_type": "execute_result",
          "data": {
            "text/plain": [
              "(tensor([0., 0., 0., 0., 1.], grad_fn=<SliceBackward0>),\n",
              " tensor([1., 0., 1., 0., 1.]))"
            ]
          },
          "metadata": {},
          "execution_count": 18
        }
      ]
    },
    {
      "cell_type": "code",
      "source": [
        "# Building a Training and Testing Loop\n",
        "torch.manual_seed(42)\n",
        "\n",
        "epochs = 1000\n",
        "\n",
        "# Put data to target device\n",
        "X_train, y_train = X_train.to(device), y_train.to(device)\n",
        "X_test, y_test = X_test.to(device), y_test.to(device)\n",
        "\n",
        "for epoch in range(epochs):\n",
        "  model1.train()\n",
        "\n",
        "  # 1. Forward pass (model outputs raw logits)\n",
        "  y_logits = model1(X_train).squeeze()\n",
        "  y_preds = torch.round(torch.sigmoid(y_logits))\n",
        "\n",
        "  # 2. Calculate loss/accuracy - https://pytorch.org/docs/stable/generated/torch.nn.BCELoss.html\n",
        "  loss = loss_fn(torch.sigmoid(y_logits), y_train)\n",
        "  accuracy = accuracy_fn(y_true=y_train, y_pred=y_preds)\n",
        "\n",
        "  # 3. Optimizer zero grad\n",
        "  optimiser.zero_grad()\n",
        "\n",
        "  # 4. Loss backwards\n",
        "  loss.backward()\n",
        "\n",
        "  # 5. Optimizer step\n",
        "  optimiser.step()\n",
        "\n",
        "  ### Testing\n",
        "  model1.eval()\n",
        "  with torch.inference_mode():\n",
        "    # 1. Forward pass\n",
        "    test_logits = model1(X_test).squeeze()\n",
        "    test_pred = torch.round(torch.sigmoid(test_logits))\n",
        "\n",
        "    # 2. Calculate loss/accuracy\n",
        "    test_loss = loss_fn(torch.sigmoid(test_logits), y_test)\n",
        "    test_accuracy = accuracy_fn(y_true=y_test, y_pred=test_pred)\n",
        "\n",
        "    # Print out what's happening every 10 epochs\n",
        "    if epoch % 10 == 0:\n",
        "      print(f\"Epoch: {epoch} | Loss: {loss:.5f}, Accuracy: {accuracy:.2f}% | Test loss: {test_loss:.5f}, Test acc: {test_accuracy:.2f}%\")\n",
        "\n"
      ],
      "metadata": {
        "colab": {
          "base_uri": "https://localhost:8080/"
        },
        "id": "l4wMJd2lVVhV",
        "outputId": "5530c07e-fd2c-4043-ef2a-67808d4191a1"
      },
      "execution_count": 19,
      "outputs": [
        {
          "output_type": "stream",
          "name": "stdout",
          "text": [
            "Epoch: 0 | Loss: 0.69430, Accuracy: 49.50% | Test loss: 0.69251, Test acc: 54.00%\n",
            "Epoch: 10 | Loss: 0.69413, Accuracy: 49.75% | Test loss: 0.69248, Test acc: 53.50%\n",
            "Epoch: 20 | Loss: 0.69399, Accuracy: 49.25% | Test loss: 0.69247, Test acc: 53.00%\n",
            "Epoch: 30 | Loss: 0.69387, Accuracy: 49.38% | Test loss: 0.69248, Test acc: 53.00%\n",
            "Epoch: 40 | Loss: 0.69377, Accuracy: 49.12% | Test loss: 0.69250, Test acc: 53.50%\n",
            "Epoch: 50 | Loss: 0.69368, Accuracy: 49.50% | Test loss: 0.69252, Test acc: 54.00%\n",
            "Epoch: 60 | Loss: 0.69360, Accuracy: 49.50% | Test loss: 0.69255, Test acc: 54.00%\n",
            "Epoch: 70 | Loss: 0.69354, Accuracy: 49.38% | Test loss: 0.69258, Test acc: 54.00%\n",
            "Epoch: 80 | Loss: 0.69348, Accuracy: 49.50% | Test loss: 0.69261, Test acc: 54.00%\n",
            "Epoch: 90 | Loss: 0.69343, Accuracy: 49.38% | Test loss: 0.69264, Test acc: 54.00%\n",
            "Epoch: 100 | Loss: 0.69338, Accuracy: 48.75% | Test loss: 0.69268, Test acc: 53.50%\n",
            "Epoch: 110 | Loss: 0.69334, Accuracy: 48.50% | Test loss: 0.69271, Test acc: 54.00%\n",
            "Epoch: 120 | Loss: 0.69331, Accuracy: 48.50% | Test loss: 0.69275, Test acc: 54.00%\n",
            "Epoch: 130 | Loss: 0.69327, Accuracy: 48.25% | Test loss: 0.69278, Test acc: 53.50%\n",
            "Epoch: 140 | Loss: 0.69324, Accuracy: 48.62% | Test loss: 0.69282, Test acc: 52.00%\n",
            "Epoch: 150 | Loss: 0.69322, Accuracy: 48.88% | Test loss: 0.69285, Test acc: 51.50%\n",
            "Epoch: 160 | Loss: 0.69320, Accuracy: 48.75% | Test loss: 0.69288, Test acc: 51.50%\n",
            "Epoch: 170 | Loss: 0.69317, Accuracy: 48.62% | Test loss: 0.69292, Test acc: 51.00%\n",
            "Epoch: 180 | Loss: 0.69315, Accuracy: 48.50% | Test loss: 0.69295, Test acc: 51.50%\n",
            "Epoch: 190 | Loss: 0.69314, Accuracy: 49.00% | Test loss: 0.69298, Test acc: 52.00%\n",
            "Epoch: 200 | Loss: 0.69312, Accuracy: 48.75% | Test loss: 0.69301, Test acc: 51.00%\n",
            "Epoch: 210 | Loss: 0.69311, Accuracy: 48.75% | Test loss: 0.69304, Test acc: 50.50%\n",
            "Epoch: 220 | Loss: 0.69309, Accuracy: 49.00% | Test loss: 0.69307, Test acc: 51.00%\n",
            "Epoch: 230 | Loss: 0.69308, Accuracy: 49.38% | Test loss: 0.69310, Test acc: 51.00%\n",
            "Epoch: 240 | Loss: 0.69307, Accuracy: 49.25% | Test loss: 0.69313, Test acc: 51.50%\n",
            "Epoch: 250 | Loss: 0.69306, Accuracy: 49.25% | Test loss: 0.69316, Test acc: 50.50%\n",
            "Epoch: 260 | Loss: 0.69305, Accuracy: 49.50% | Test loss: 0.69319, Test acc: 51.50%\n",
            "Epoch: 270 | Loss: 0.69304, Accuracy: 49.25% | Test loss: 0.69321, Test acc: 50.00%\n",
            "Epoch: 280 | Loss: 0.69303, Accuracy: 49.00% | Test loss: 0.69324, Test acc: 48.50%\n",
            "Epoch: 290 | Loss: 0.69303, Accuracy: 49.00% | Test loss: 0.69326, Test acc: 48.50%\n",
            "Epoch: 300 | Loss: 0.69302, Accuracy: 49.25% | Test loss: 0.69329, Test acc: 48.00%\n",
            "Epoch: 310 | Loss: 0.69301, Accuracy: 50.00% | Test loss: 0.69331, Test acc: 48.50%\n",
            "Epoch: 320 | Loss: 0.69301, Accuracy: 50.38% | Test loss: 0.69333, Test acc: 49.50%\n",
            "Epoch: 330 | Loss: 0.69300, Accuracy: 50.25% | Test loss: 0.69336, Test acc: 49.00%\n",
            "Epoch: 340 | Loss: 0.69300, Accuracy: 50.25% | Test loss: 0.69338, Test acc: 49.50%\n",
            "Epoch: 350 | Loss: 0.69299, Accuracy: 50.00% | Test loss: 0.69340, Test acc: 49.00%\n",
            "Epoch: 360 | Loss: 0.69299, Accuracy: 49.75% | Test loss: 0.69342, Test acc: 49.00%\n",
            "Epoch: 370 | Loss: 0.69298, Accuracy: 50.38% | Test loss: 0.69344, Test acc: 49.50%\n",
            "Epoch: 380 | Loss: 0.69298, Accuracy: 50.38% | Test loss: 0.69346, Test acc: 48.00%\n",
            "Epoch: 390 | Loss: 0.69297, Accuracy: 50.00% | Test loss: 0.69348, Test acc: 49.00%\n",
            "Epoch: 400 | Loss: 0.69297, Accuracy: 50.25% | Test loss: 0.69350, Test acc: 49.50%\n",
            "Epoch: 410 | Loss: 0.69297, Accuracy: 50.25% | Test loss: 0.69352, Test acc: 50.00%\n",
            "Epoch: 420 | Loss: 0.69296, Accuracy: 50.25% | Test loss: 0.69353, Test acc: 49.50%\n",
            "Epoch: 430 | Loss: 0.69296, Accuracy: 49.88% | Test loss: 0.69355, Test acc: 49.00%\n",
            "Epoch: 440 | Loss: 0.69296, Accuracy: 50.50% | Test loss: 0.69357, Test acc: 49.50%\n",
            "Epoch: 450 | Loss: 0.69296, Accuracy: 51.12% | Test loss: 0.69358, Test acc: 49.50%\n",
            "Epoch: 460 | Loss: 0.69295, Accuracy: 50.88% | Test loss: 0.69360, Test acc: 49.50%\n",
            "Epoch: 470 | Loss: 0.69295, Accuracy: 51.62% | Test loss: 0.69362, Test acc: 49.50%\n",
            "Epoch: 480 | Loss: 0.69295, Accuracy: 51.75% | Test loss: 0.69363, Test acc: 49.50%\n",
            "Epoch: 490 | Loss: 0.69295, Accuracy: 51.88% | Test loss: 0.69365, Test acc: 49.50%\n",
            "Epoch: 500 | Loss: 0.69294, Accuracy: 51.88% | Test loss: 0.69366, Test acc: 49.00%\n",
            "Epoch: 510 | Loss: 0.69294, Accuracy: 51.75% | Test loss: 0.69368, Test acc: 49.00%\n",
            "Epoch: 520 | Loss: 0.69294, Accuracy: 51.88% | Test loss: 0.69369, Test acc: 49.00%\n",
            "Epoch: 530 | Loss: 0.69294, Accuracy: 51.88% | Test loss: 0.69370, Test acc: 49.00%\n",
            "Epoch: 540 | Loss: 0.69294, Accuracy: 51.62% | Test loss: 0.69372, Test acc: 49.50%\n",
            "Epoch: 550 | Loss: 0.69294, Accuracy: 51.62% | Test loss: 0.69373, Test acc: 49.50%\n",
            "Epoch: 560 | Loss: 0.69293, Accuracy: 51.50% | Test loss: 0.69374, Test acc: 49.50%\n",
            "Epoch: 570 | Loss: 0.69293, Accuracy: 51.50% | Test loss: 0.69375, Test acc: 49.50%\n",
            "Epoch: 580 | Loss: 0.69293, Accuracy: 51.75% | Test loss: 0.69377, Test acc: 49.50%\n",
            "Epoch: 590 | Loss: 0.69293, Accuracy: 51.75% | Test loss: 0.69378, Test acc: 49.50%\n",
            "Epoch: 600 | Loss: 0.69293, Accuracy: 51.62% | Test loss: 0.69379, Test acc: 49.00%\n",
            "Epoch: 610 | Loss: 0.69293, Accuracy: 51.50% | Test loss: 0.69380, Test acc: 49.50%\n",
            "Epoch: 620 | Loss: 0.69293, Accuracy: 51.88% | Test loss: 0.69381, Test acc: 49.50%\n",
            "Epoch: 630 | Loss: 0.69293, Accuracy: 52.00% | Test loss: 0.69382, Test acc: 50.00%\n",
            "Epoch: 640 | Loss: 0.69292, Accuracy: 52.12% | Test loss: 0.69383, Test acc: 50.00%\n",
            "Epoch: 650 | Loss: 0.69292, Accuracy: 52.00% | Test loss: 0.69384, Test acc: 50.00%\n",
            "Epoch: 660 | Loss: 0.69292, Accuracy: 52.00% | Test loss: 0.69385, Test acc: 50.00%\n",
            "Epoch: 670 | Loss: 0.69292, Accuracy: 51.88% | Test loss: 0.69386, Test acc: 50.00%\n",
            "Epoch: 680 | Loss: 0.69292, Accuracy: 51.75% | Test loss: 0.69387, Test acc: 50.00%\n",
            "Epoch: 690 | Loss: 0.69292, Accuracy: 51.88% | Test loss: 0.69388, Test acc: 49.50%\n",
            "Epoch: 700 | Loss: 0.69292, Accuracy: 51.75% | Test loss: 0.69389, Test acc: 50.00%\n",
            "Epoch: 710 | Loss: 0.69292, Accuracy: 51.88% | Test loss: 0.69390, Test acc: 50.00%\n",
            "Epoch: 720 | Loss: 0.69292, Accuracy: 51.88% | Test loss: 0.69391, Test acc: 50.00%\n",
            "Epoch: 730 | Loss: 0.69292, Accuracy: 52.00% | Test loss: 0.69392, Test acc: 49.50%\n",
            "Epoch: 740 | Loss: 0.69292, Accuracy: 51.75% | Test loss: 0.69392, Test acc: 49.50%\n",
            "Epoch: 750 | Loss: 0.69292, Accuracy: 51.88% | Test loss: 0.69393, Test acc: 49.50%\n",
            "Epoch: 760 | Loss: 0.69291, Accuracy: 52.00% | Test loss: 0.69394, Test acc: 49.50%\n",
            "Epoch: 770 | Loss: 0.69291, Accuracy: 52.12% | Test loss: 0.69395, Test acc: 49.50%\n",
            "Epoch: 780 | Loss: 0.69291, Accuracy: 52.12% | Test loss: 0.69396, Test acc: 49.50%\n",
            "Epoch: 790 | Loss: 0.69291, Accuracy: 52.00% | Test loss: 0.69396, Test acc: 49.50%\n",
            "Epoch: 800 | Loss: 0.69291, Accuracy: 52.12% | Test loss: 0.69397, Test acc: 49.50%\n",
            "Epoch: 810 | Loss: 0.69291, Accuracy: 52.12% | Test loss: 0.69398, Test acc: 49.50%\n",
            "Epoch: 820 | Loss: 0.69291, Accuracy: 52.12% | Test loss: 0.69398, Test acc: 49.50%\n",
            "Epoch: 830 | Loss: 0.69291, Accuracy: 52.12% | Test loss: 0.69399, Test acc: 49.50%\n",
            "Epoch: 840 | Loss: 0.69291, Accuracy: 52.12% | Test loss: 0.69400, Test acc: 48.50%\n",
            "Epoch: 850 | Loss: 0.69291, Accuracy: 51.88% | Test loss: 0.69400, Test acc: 48.50%\n",
            "Epoch: 860 | Loss: 0.69291, Accuracy: 52.00% | Test loss: 0.69401, Test acc: 48.50%\n",
            "Epoch: 870 | Loss: 0.69291, Accuracy: 52.00% | Test loss: 0.69402, Test acc: 48.50%\n",
            "Epoch: 880 | Loss: 0.69291, Accuracy: 51.88% | Test loss: 0.69402, Test acc: 48.50%\n",
            "Epoch: 890 | Loss: 0.69291, Accuracy: 51.88% | Test loss: 0.69403, Test acc: 48.50%\n",
            "Epoch: 900 | Loss: 0.69291, Accuracy: 51.88% | Test loss: 0.69403, Test acc: 48.00%\n",
            "Epoch: 910 | Loss: 0.69291, Accuracy: 52.00% | Test loss: 0.69404, Test acc: 48.00%\n",
            "Epoch: 920 | Loss: 0.69291, Accuracy: 52.00% | Test loss: 0.69405, Test acc: 48.00%\n",
            "Epoch: 930 | Loss: 0.69291, Accuracy: 52.00% | Test loss: 0.69405, Test acc: 48.00%\n",
            "Epoch: 940 | Loss: 0.69291, Accuracy: 52.00% | Test loss: 0.69406, Test acc: 48.00%\n",
            "Epoch: 950 | Loss: 0.69291, Accuracy: 52.00% | Test loss: 0.69406, Test acc: 48.00%\n",
            "Epoch: 960 | Loss: 0.69291, Accuracy: 52.00% | Test loss: 0.69407, Test acc: 48.00%\n",
            "Epoch: 970 | Loss: 0.69291, Accuracy: 52.00% | Test loss: 0.69407, Test acc: 48.00%\n",
            "Epoch: 980 | Loss: 0.69291, Accuracy: 51.88% | Test loss: 0.69408, Test acc: 48.00%\n",
            "Epoch: 990 | Loss: 0.69291, Accuracy: 51.75% | Test loss: 0.69408, Test acc: 48.00%\n"
          ]
        }
      ]
    },
    {
      "cell_type": "code",
      "source": [
        "# Improving Our Model\n",
        "\n",
        "# Add More Layers\n",
        "# Add More Hidden Units\n",
        "# Fit for Longer with More Epochs\n",
        "# Change/Add Activation Functions\n",
        "# Change the Learning Rate\n",
        "# Change the Loss Function\n",
        "# Use Transfer Learning\n",
        "\n",
        "# Making a new and larger model\n",
        "class CircleModelV2(nn.Module):\n",
        "  def __init__(self):\n",
        "    super().__init__()\n",
        "    self.layer_1 = nn.Linear(in_features=2, out_features=8)\n",
        "    self.layer_2 = nn.Linear(in_features=8, out_features=8)\n",
        "    self.layer_3 = nn.Linear(in_features=8, out_features=64)\n",
        "    self.layer_4 = nn.Linear(in_features=64, out_features=256)\n",
        "    self.layer_5 = nn.Linear(in_features=256, out_features=1)\n",
        "\n",
        "  def forward(self, x):\n",
        "    return self.layer_5(self.layer_4(self.layer_3(self.layer_2(self.layer_1(x)))))"
      ],
      "metadata": {
        "id": "JY72yQWUZT-s"
      },
      "execution_count": 20,
      "outputs": []
    },
    {
      "cell_type": "code",
      "source": [
        "# Create an instance of our model\n",
        "model2 = CircleModelV2().to(device)\n",
        "model2"
      ],
      "metadata": {
        "colab": {
          "base_uri": "https://localhost:8080/"
        },
        "id": "BLf0i2GmnR2_",
        "outputId": "473342d7-b7b5-4d2b-842a-4a39dc30d656"
      },
      "execution_count": 27,
      "outputs": [
        {
          "output_type": "execute_result",
          "data": {
            "text/plain": [
              "CircleModelV2(\n",
              "  (layer_1): Linear(in_features=2, out_features=8, bias=True)\n",
              "  (layer_2): Linear(in_features=8, out_features=8, bias=True)\n",
              "  (layer_3): Linear(in_features=8, out_features=64, bias=True)\n",
              "  (layer_4): Linear(in_features=64, out_features=256, bias=True)\n",
              "  (layer_5): Linear(in_features=256, out_features=1, bias=True)\n",
              ")"
            ]
          },
          "metadata": {},
          "execution_count": 27
        }
      ]
    },
    {
      "cell_type": "code",
      "source": [
        "# Set up loss and optimiser functions\n",
        "loss_fn = nn.BCEWithLogitsLoss() # Does not require sigmoid on input\n",
        "optimiser = torch.optim.SGD(model2.parameters(), lr=0.1)"
      ],
      "metadata": {
        "id": "mCUI2WIanwUW"
      },
      "execution_count": 22,
      "outputs": []
    },
    {
      "cell_type": "code",
      "source": [
        "# Training and Testing\n",
        "torch.manual_seed(42)\n",
        "\n",
        "epochs = 1000\n",
        "\n",
        "# Put data into device\n",
        "X_train, y_train = X_train.to(device), y_train.to(device)\n",
        "X_test, y_test = X_test.to(device), y_test.to(device)\n",
        "\n",
        "for epoch in range(epochs):\n",
        "  model2.train()\n",
        "\n",
        "  y_logits = model2(X_train).squeeze()\n",
        "  y_preds = torch.round(torch.sigmoid(y_logits))\n",
        "\n",
        "  loss = loss_fn(y_logits, y_train)\n",
        "  accuracy = accuracy_fn(y_true=y_train, y_pred=y_preds)\n",
        "\n",
        "  optimiser.zero_grad()\n",
        "\n",
        "  loss.backward()\n",
        "\n",
        "  optimiser.step()\n",
        "\n",
        "  model2.eval()\n",
        "  with torch.inference_mode():\n",
        "    test_logits = model2(X_test).squeeze()\n",
        "    test_preds = torch.round(torch.sigmoid(test_logits))\n",
        "\n",
        "    test_loss = loss_fn(test_logits, y_test)\n",
        "\n",
        "    if epoch % 10 == 0:\n",
        "      print(f\"Epoch: {epoch} | Loss: {loss:.5f}, Accuracy: {accuracy:.2f}% | Test loss: {test_loss:.5f}, Test acc: {test_accuracy:.2f}%\")"
      ],
      "metadata": {
        "colab": {
          "base_uri": "https://localhost:8080/"
        },
        "id": "tBeZcgVzn30X",
        "outputId": "715fea8b-dc87-4684-f6a6-619df6bd9650"
      },
      "execution_count": 23,
      "outputs": [
        {
          "output_type": "stream",
          "name": "stdout",
          "text": [
            "Epoch: 0 | Loss: 0.69375, Accuracy: 49.00% | Test loss: 0.69320, Test acc: 48.00%\n",
            "Epoch: 10 | Loss: 0.69318, Accuracy: 50.75% | Test loss: 0.69339, Test acc: 48.00%\n",
            "Epoch: 20 | Loss: 0.69305, Accuracy: 51.00% | Test loss: 0.69355, Test acc: 48.00%\n",
            "Epoch: 30 | Loss: 0.69298, Accuracy: 51.75% | Test loss: 0.69369, Test acc: 48.00%\n",
            "Epoch: 40 | Loss: 0.69294, Accuracy: 52.62% | Test loss: 0.69381, Test acc: 48.00%\n",
            "Epoch: 50 | Loss: 0.69292, Accuracy: 52.00% | Test loss: 0.69391, Test acc: 48.00%\n",
            "Epoch: 60 | Loss: 0.69291, Accuracy: 51.75% | Test loss: 0.69399, Test acc: 48.00%\n",
            "Epoch: 70 | Loss: 0.69291, Accuracy: 52.00% | Test loss: 0.69405, Test acc: 48.00%\n",
            "Epoch: 80 | Loss: 0.69291, Accuracy: 52.25% | Test loss: 0.69410, Test acc: 48.00%\n",
            "Epoch: 90 | Loss: 0.69290, Accuracy: 52.00% | Test loss: 0.69414, Test acc: 48.00%\n",
            "Epoch: 100 | Loss: 0.69290, Accuracy: 52.38% | Test loss: 0.69417, Test acc: 48.00%\n",
            "Epoch: 110 | Loss: 0.69290, Accuracy: 52.12% | Test loss: 0.69419, Test acc: 48.00%\n",
            "Epoch: 120 | Loss: 0.69290, Accuracy: 51.88% | Test loss: 0.69421, Test acc: 48.00%\n",
            "Epoch: 130 | Loss: 0.69290, Accuracy: 51.88% | Test loss: 0.69422, Test acc: 48.00%\n",
            "Epoch: 140 | Loss: 0.69290, Accuracy: 51.75% | Test loss: 0.69423, Test acc: 48.00%\n",
            "Epoch: 150 | Loss: 0.69290, Accuracy: 51.75% | Test loss: 0.69424, Test acc: 48.00%\n",
            "Epoch: 160 | Loss: 0.69290, Accuracy: 51.62% | Test loss: 0.69424, Test acc: 48.00%\n",
            "Epoch: 170 | Loss: 0.69290, Accuracy: 51.75% | Test loss: 0.69425, Test acc: 48.00%\n",
            "Epoch: 180 | Loss: 0.69290, Accuracy: 51.75% | Test loss: 0.69425, Test acc: 48.00%\n",
            "Epoch: 190 | Loss: 0.69290, Accuracy: 51.75% | Test loss: 0.69425, Test acc: 48.00%\n",
            "Epoch: 200 | Loss: 0.69290, Accuracy: 51.75% | Test loss: 0.69426, Test acc: 48.00%\n",
            "Epoch: 210 | Loss: 0.69290, Accuracy: 51.75% | Test loss: 0.69426, Test acc: 48.00%\n",
            "Epoch: 220 | Loss: 0.69290, Accuracy: 51.75% | Test loss: 0.69426, Test acc: 48.00%\n",
            "Epoch: 230 | Loss: 0.69290, Accuracy: 51.75% | Test loss: 0.69426, Test acc: 48.00%\n",
            "Epoch: 240 | Loss: 0.69290, Accuracy: 51.75% | Test loss: 0.69426, Test acc: 48.00%\n",
            "Epoch: 250 | Loss: 0.69290, Accuracy: 51.75% | Test loss: 0.69426, Test acc: 48.00%\n",
            "Epoch: 260 | Loss: 0.69290, Accuracy: 51.75% | Test loss: 0.69426, Test acc: 48.00%\n",
            "Epoch: 270 | Loss: 0.69290, Accuracy: 51.75% | Test loss: 0.69426, Test acc: 48.00%\n",
            "Epoch: 280 | Loss: 0.69290, Accuracy: 51.75% | Test loss: 0.69426, Test acc: 48.00%\n",
            "Epoch: 290 | Loss: 0.69290, Accuracy: 51.75% | Test loss: 0.69426, Test acc: 48.00%\n",
            "Epoch: 300 | Loss: 0.69290, Accuracy: 51.75% | Test loss: 0.69426, Test acc: 48.00%\n",
            "Epoch: 310 | Loss: 0.69290, Accuracy: 51.75% | Test loss: 0.69426, Test acc: 48.00%\n",
            "Epoch: 320 | Loss: 0.69290, Accuracy: 51.75% | Test loss: 0.69426, Test acc: 48.00%\n",
            "Epoch: 330 | Loss: 0.69290, Accuracy: 51.75% | Test loss: 0.69426, Test acc: 48.00%\n",
            "Epoch: 340 | Loss: 0.69290, Accuracy: 51.75% | Test loss: 0.69426, Test acc: 48.00%\n",
            "Epoch: 350 | Loss: 0.69290, Accuracy: 51.75% | Test loss: 0.69426, Test acc: 48.00%\n",
            "Epoch: 360 | Loss: 0.69290, Accuracy: 51.75% | Test loss: 0.69426, Test acc: 48.00%\n",
            "Epoch: 370 | Loss: 0.69290, Accuracy: 51.75% | Test loss: 0.69426, Test acc: 48.00%\n",
            "Epoch: 380 | Loss: 0.69290, Accuracy: 51.75% | Test loss: 0.69426, Test acc: 48.00%\n",
            "Epoch: 390 | Loss: 0.69290, Accuracy: 51.75% | Test loss: 0.69426, Test acc: 48.00%\n",
            "Epoch: 400 | Loss: 0.69290, Accuracy: 51.75% | Test loss: 0.69426, Test acc: 48.00%\n",
            "Epoch: 410 | Loss: 0.69290, Accuracy: 51.75% | Test loss: 0.69426, Test acc: 48.00%\n",
            "Epoch: 420 | Loss: 0.69290, Accuracy: 51.75% | Test loss: 0.69426, Test acc: 48.00%\n",
            "Epoch: 430 | Loss: 0.69290, Accuracy: 51.75% | Test loss: 0.69426, Test acc: 48.00%\n",
            "Epoch: 440 | Loss: 0.69290, Accuracy: 51.75% | Test loss: 0.69426, Test acc: 48.00%\n",
            "Epoch: 450 | Loss: 0.69290, Accuracy: 51.75% | Test loss: 0.69426, Test acc: 48.00%\n",
            "Epoch: 460 | Loss: 0.69290, Accuracy: 51.75% | Test loss: 0.69426, Test acc: 48.00%\n",
            "Epoch: 470 | Loss: 0.69290, Accuracy: 51.75% | Test loss: 0.69426, Test acc: 48.00%\n",
            "Epoch: 480 | Loss: 0.69290, Accuracy: 51.75% | Test loss: 0.69426, Test acc: 48.00%\n",
            "Epoch: 490 | Loss: 0.69290, Accuracy: 51.75% | Test loss: 0.69426, Test acc: 48.00%\n",
            "Epoch: 500 | Loss: 0.69290, Accuracy: 51.75% | Test loss: 0.69426, Test acc: 48.00%\n",
            "Epoch: 510 | Loss: 0.69290, Accuracy: 51.75% | Test loss: 0.69426, Test acc: 48.00%\n",
            "Epoch: 520 | Loss: 0.69290, Accuracy: 51.75% | Test loss: 0.69426, Test acc: 48.00%\n",
            "Epoch: 530 | Loss: 0.69290, Accuracy: 51.75% | Test loss: 0.69426, Test acc: 48.00%\n",
            "Epoch: 540 | Loss: 0.69290, Accuracy: 51.75% | Test loss: 0.69426, Test acc: 48.00%\n",
            "Epoch: 550 | Loss: 0.69290, Accuracy: 51.75% | Test loss: 0.69426, Test acc: 48.00%\n",
            "Epoch: 560 | Loss: 0.69290, Accuracy: 51.75% | Test loss: 0.69426, Test acc: 48.00%\n",
            "Epoch: 570 | Loss: 0.69290, Accuracy: 51.75% | Test loss: 0.69426, Test acc: 48.00%\n",
            "Epoch: 580 | Loss: 0.69290, Accuracy: 51.75% | Test loss: 0.69426, Test acc: 48.00%\n",
            "Epoch: 590 | Loss: 0.69290, Accuracy: 51.75% | Test loss: 0.69426, Test acc: 48.00%\n",
            "Epoch: 600 | Loss: 0.69290, Accuracy: 51.75% | Test loss: 0.69426, Test acc: 48.00%\n",
            "Epoch: 610 | Loss: 0.69290, Accuracy: 51.75% | Test loss: 0.69426, Test acc: 48.00%\n",
            "Epoch: 620 | Loss: 0.69290, Accuracy: 51.75% | Test loss: 0.69426, Test acc: 48.00%\n",
            "Epoch: 630 | Loss: 0.69290, Accuracy: 51.75% | Test loss: 0.69426, Test acc: 48.00%\n",
            "Epoch: 640 | Loss: 0.69290, Accuracy: 51.75% | Test loss: 0.69426, Test acc: 48.00%\n",
            "Epoch: 650 | Loss: 0.69290, Accuracy: 51.75% | Test loss: 0.69426, Test acc: 48.00%\n",
            "Epoch: 660 | Loss: 0.69290, Accuracy: 51.75% | Test loss: 0.69426, Test acc: 48.00%\n",
            "Epoch: 670 | Loss: 0.69290, Accuracy: 51.75% | Test loss: 0.69426, Test acc: 48.00%\n",
            "Epoch: 680 | Loss: 0.69290, Accuracy: 51.75% | Test loss: 0.69426, Test acc: 48.00%\n",
            "Epoch: 690 | Loss: 0.69290, Accuracy: 51.75% | Test loss: 0.69426, Test acc: 48.00%\n",
            "Epoch: 700 | Loss: 0.69290, Accuracy: 51.75% | Test loss: 0.69426, Test acc: 48.00%\n",
            "Epoch: 710 | Loss: 0.69290, Accuracy: 51.75% | Test loss: 0.69426, Test acc: 48.00%\n",
            "Epoch: 720 | Loss: 0.69290, Accuracy: 51.75% | Test loss: 0.69426, Test acc: 48.00%\n",
            "Epoch: 730 | Loss: 0.69290, Accuracy: 51.75% | Test loss: 0.69426, Test acc: 48.00%\n",
            "Epoch: 740 | Loss: 0.69290, Accuracy: 51.75% | Test loss: 0.69426, Test acc: 48.00%\n",
            "Epoch: 750 | Loss: 0.69290, Accuracy: 51.75% | Test loss: 0.69426, Test acc: 48.00%\n",
            "Epoch: 760 | Loss: 0.69290, Accuracy: 51.75% | Test loss: 0.69426, Test acc: 48.00%\n",
            "Epoch: 770 | Loss: 0.69290, Accuracy: 51.75% | Test loss: 0.69426, Test acc: 48.00%\n",
            "Epoch: 780 | Loss: 0.69290, Accuracy: 51.75% | Test loss: 0.69426, Test acc: 48.00%\n",
            "Epoch: 790 | Loss: 0.69290, Accuracy: 51.75% | Test loss: 0.69426, Test acc: 48.00%\n",
            "Epoch: 800 | Loss: 0.69290, Accuracy: 51.75% | Test loss: 0.69426, Test acc: 48.00%\n",
            "Epoch: 810 | Loss: 0.69290, Accuracy: 51.75% | Test loss: 0.69426, Test acc: 48.00%\n",
            "Epoch: 820 | Loss: 0.69290, Accuracy: 51.75% | Test loss: 0.69426, Test acc: 48.00%\n",
            "Epoch: 830 | Loss: 0.69290, Accuracy: 51.75% | Test loss: 0.69426, Test acc: 48.00%\n",
            "Epoch: 840 | Loss: 0.69290, Accuracy: 51.75% | Test loss: 0.69426, Test acc: 48.00%\n",
            "Epoch: 850 | Loss: 0.69290, Accuracy: 51.75% | Test loss: 0.69426, Test acc: 48.00%\n",
            "Epoch: 860 | Loss: 0.69290, Accuracy: 51.75% | Test loss: 0.69426, Test acc: 48.00%\n",
            "Epoch: 870 | Loss: 0.69290, Accuracy: 51.75% | Test loss: 0.69426, Test acc: 48.00%\n",
            "Epoch: 880 | Loss: 0.69290, Accuracy: 51.75% | Test loss: 0.69426, Test acc: 48.00%\n",
            "Epoch: 890 | Loss: 0.69290, Accuracy: 51.75% | Test loss: 0.69426, Test acc: 48.00%\n",
            "Epoch: 900 | Loss: 0.69290, Accuracy: 51.75% | Test loss: 0.69426, Test acc: 48.00%\n",
            "Epoch: 910 | Loss: 0.69290, Accuracy: 51.75% | Test loss: 0.69426, Test acc: 48.00%\n",
            "Epoch: 920 | Loss: 0.69290, Accuracy: 51.75% | Test loss: 0.69426, Test acc: 48.00%\n",
            "Epoch: 930 | Loss: 0.69290, Accuracy: 51.75% | Test loss: 0.69426, Test acc: 48.00%\n",
            "Epoch: 940 | Loss: 0.69290, Accuracy: 51.75% | Test loss: 0.69426, Test acc: 48.00%\n",
            "Epoch: 950 | Loss: 0.69290, Accuracy: 51.75% | Test loss: 0.69426, Test acc: 48.00%\n",
            "Epoch: 960 | Loss: 0.69290, Accuracy: 51.75% | Test loss: 0.69426, Test acc: 48.00%\n",
            "Epoch: 970 | Loss: 0.69290, Accuracy: 51.75% | Test loss: 0.69426, Test acc: 48.00%\n",
            "Epoch: 980 | Loss: 0.69290, Accuracy: 51.75% | Test loss: 0.69426, Test acc: 48.00%\n",
            "Epoch: 990 | Loss: 0.69290, Accuracy: 51.75% | Test loss: 0.69426, Test acc: 48.00%\n"
          ]
        }
      ]
    },
    {
      "cell_type": "code",
      "source": [
        "# Checking if our model can model a straight line\n",
        "\n",
        "# Create some data\n",
        "weight = 0.7\n",
        "bias = 0.3\n",
        "start = 0\n",
        "end = 1\n",
        "step = 0.01\n",
        "\n",
        "# Create data\n",
        "X_regression = torch.arange(start, end, step).unsqueeze(dim=1)\n",
        "y_regression = weight * X_regression + bias # linear regression formula\n",
        "\n",
        "# Check the data\n",
        "print(len(X_regression))\n",
        "X_regression[:5], y_regression[:5]"
      ],
      "metadata": {
        "colab": {
          "base_uri": "https://localhost:8080/"
        },
        "id": "R1yYyJp-p0zO",
        "outputId": "cc919dff-5f4a-4b68-8c9d-9e982cfce963"
      },
      "execution_count": 41,
      "outputs": [
        {
          "output_type": "stream",
          "name": "stdout",
          "text": [
            "100\n"
          ]
        },
        {
          "output_type": "execute_result",
          "data": {
            "text/plain": [
              "(tensor([[0.0000],\n",
              "         [0.0100],\n",
              "         [0.0200],\n",
              "         [0.0300],\n",
              "         [0.0400]]),\n",
              " tensor([[0.3000],\n",
              "         [0.3070],\n",
              "         [0.3140],\n",
              "         [0.3210],\n",
              "         [0.3280]]))"
            ]
          },
          "metadata": {},
          "execution_count": 41
        }
      ]
    },
    {
      "cell_type": "code",
      "source": [
        "# Create train and test splits\n",
        "train_split = int(0.8 * len(X_regression)) # 80% of data used for training set\n",
        "X_train_regression, y_train_regression = X_regression[:train_split], y_regression[:train_split]\n",
        "X_test_regression, y_test_regression = X_regression[train_split:], y_regression[train_split:]\n",
        "\n",
        "# Check the lengths of each split\n",
        "print(len(X_train_regression),\n",
        "    len(y_train_regression),\n",
        "    len(X_test_regression),\n",
        "    len(y_test_regression))"
      ],
      "metadata": {
        "colab": {
          "base_uri": "https://localhost:8080/"
        },
        "id": "DsOY62ypqkkb",
        "outputId": "a7c8aca3-b1da-4784-b382-99f9aa6d9a55"
      },
      "execution_count": 48,
      "outputs": [
        {
          "output_type": "stream",
          "name": "stdout",
          "text": [
            "80 80 20 20\n"
          ]
        }
      ]
    },
    {
      "cell_type": "code",
      "source": [
        "# Making a Neural Network Model (based on ModelV2) fit a Linear Model\n",
        "class CircleModelV3(nn.Module):\n",
        "  def __init__(self):\n",
        "    super().__init__()\n",
        "    self.layer_1 = nn.Linear(in_features=1, out_features=8)\n",
        "    self.layer_2 = nn.Linear(in_features=8, out_features=8)\n",
        "    self.layer_3 = nn.Linear(in_features=8, out_features=64)\n",
        "    self.layer_4 = nn.Linear(in_features=64, out_features=256)\n",
        "    self.layer_5 = nn.Linear(in_features=256, out_features=1)\n",
        "\n",
        "  def forward(self, x):\n",
        "    return self.layer_5(self.layer_4(self.layer_3(self.layer_2(self.layer_1(x)))))\n",
        "\n",
        "# Create an instance of our model\n",
        "model2 = CircleModelV3().to(device)\n",
        "model2"
      ],
      "metadata": {
        "colab": {
          "base_uri": "https://localhost:8080/"
        },
        "id": "uCVX-1l6qp45",
        "outputId": "32a188b6-c44a-49cf-f791-70f121f20f2c"
      },
      "execution_count": 55,
      "outputs": [
        {
          "output_type": "execute_result",
          "data": {
            "text/plain": [
              "CircleModelV3(\n",
              "  (layer_1): Linear(in_features=1, out_features=8, bias=True)\n",
              "  (layer_2): Linear(in_features=8, out_features=8, bias=True)\n",
              "  (layer_3): Linear(in_features=8, out_features=64, bias=True)\n",
              "  (layer_4): Linear(in_features=64, out_features=256, bias=True)\n",
              "  (layer_5): Linear(in_features=256, out_features=1, bias=True)\n",
              ")"
            ]
          },
          "metadata": {},
          "execution_count": 55
        }
      ]
    },
    {
      "cell_type": "code",
      "source": [
        "# Set up Loss and Optimiser Functions\n",
        "loss_fn = nn.L1Loss() # MAE as this is recommended for regression problems\n",
        "optimiser = torch.optim.SGD(model2.parameters(), lr=0.1)"
      ],
      "metadata": {
        "id": "2b1A0wKTt2ec"
      },
      "execution_count": 56,
      "outputs": []
    },
    {
      "cell_type": "code",
      "source": [
        "# Train the model\n",
        "torch.manual_seed(42)\n",
        "\n",
        "# Set the number of epochs\n",
        "epochs = 1000\n",
        "\n",
        "# Put data to target device\n",
        "X_train_regression, y_train_regression = X_train_regression.to(device), y_train_regression.to(device)\n",
        "X_test_regression, y_test_regression = X_test_regression.to(device), y_test_regression.to(device)\n",
        "\n",
        "for epoch in range(epochs):\n",
        "  model2.train()\n",
        "\n",
        "  ### Training\n",
        "  # 1. Forward pass\n",
        "  y_pred = model2(X_train_regression)\n",
        "\n",
        "  # 2. Calculate loss (no accuracy since it's a regression problem, not classification)\n",
        "  loss = loss_fn(y_pred, y_train_regression)\n",
        "\n",
        "  # 3. Optimizer zero grad\n",
        "  optimiser.zero_grad()\n",
        "\n",
        "  # 4. Loss backwards\n",
        "  loss.backward()\n",
        "\n",
        "  # 5. Optimizer step\n",
        "  optimiser.step()\n",
        "\n",
        "  model2.eval()\n",
        "  with torch.inference_mode():\n",
        "    # 1. Forward pass\n",
        "      test_pred = model2(X_test_regression)\n",
        "      # 2. Calculate the loss\n",
        "      test_loss = loss_fn(test_pred, y_test_regression)\n",
        "\n",
        "    # Print out what's happening\n",
        "  if epoch % 100 == 0:\n",
        "    print(f\"Epoch: {epoch} | Train loss: {loss:.5f}, Test loss: {test_loss:.5f}\")"
      ],
      "metadata": {
        "colab": {
          "base_uri": "https://localhost:8080/"
        },
        "id": "ncAjb6WIuDaC",
        "outputId": "1f30ccba-0332-4fe6-fba7-08a754e9475b"
      },
      "execution_count": 59,
      "outputs": [
        {
          "output_type": "stream",
          "name": "stdout",
          "text": [
            "Epoch: 0 | Train loss: 0.13953, Test loss: 0.29333\n",
            "Epoch: 100 | Train loss: 0.12165, Test loss: 0.07677\n",
            "Epoch: 200 | Train loss: 0.02563, Test loss: 0.17205\n",
            "Epoch: 300 | Train loss: 0.12919, Test loss: 0.04517\n",
            "Epoch: 400 | Train loss: 0.07161, Test loss: 0.13711\n",
            "Epoch: 500 | Train loss: 0.03098, Test loss: 0.02992\n",
            "Epoch: 600 | Train loss: 0.06223, Test loss: 0.17359\n",
            "Epoch: 700 | Train loss: 0.04451, Test loss: 0.13583\n",
            "Epoch: 800 | Train loss: 0.12093, Test loss: 0.05852\n",
            "Epoch: 900 | Train loss: 0.04118, Test loss: 0.11695\n"
          ]
        }
      ]
    },
    {
      "cell_type": "code",
      "source": [
        "import requests\n",
        "from pathlib import Path\n",
        "\n",
        "# Download helper functions from Learn PyTorch repo (if not already downloaded)\n",
        "if Path(\"helper_functions.py\").is_file():\n",
        "  print(\"helper_functions.py already exists, skipping download\")\n",
        "else:\n",
        "  print(\"Downloading helper_functions.py\")\n",
        "  request = requests.get(\"https://raw.githubusercontent.com/mrdbourke/pytorch-deep-learning/main/helper_functions.py\")\n",
        "  with open(\"helper_functions.py\", \"wb\") as f:\n",
        "    f.write(request.content)\n",
        "\n",
        "from helper_functions import plot_predictions, plot_decision_boundary\n",
        "\n",
        "# Turn on evaluation mode\n",
        "model2.eval()\n",
        "\n",
        "# Make predictions (inference)\n",
        "with torch.inference_mode():\n",
        "  y_preds = model2(X_test_regression)\n",
        "\n",
        "# Plot data and predictions with data on the CPU (matplotlib can't handle data on the GPU)\n",
        "# (try removing .cpu() from one of the below and see what happens)\n",
        "plot_predictions(train_data=X_train_regression.cpu(),\n",
        "                 train_labels=y_train_regression.cpu(),\n",
        "                 test_data=X_test_regression.cpu(),\n",
        "                 test_labels=y_test_regression.cpu(),\n",
        "                 predictions=y_preds.cpu());\n"
      ],
      "metadata": {
        "colab": {
          "base_uri": "https://localhost:8080/",
          "height": 617
        },
        "id": "y1b7uAEnuOS-",
        "outputId": "8ee4e954-1adc-4013-80f3-60a3b40fb1c0"
      },
      "execution_count": 60,
      "outputs": [
        {
          "output_type": "stream",
          "name": "stdout",
          "text": [
            "helper_functions.py already exists, skipping download\n"
          ]
        },
        {
          "output_type": "display_data",
          "data": {
            "text/plain": [
              "<Figure size 1000x700 with 1 Axes>"
            ],
            "image/png": "[encoded data removed]"
          },
          "metadata": {}
        }
      ]
    },
    {
      "cell_type": "code",
      "source": [
        "## Alright, it looks like our model is able to do far better than random guessing on straight lines."
      ],
      "metadata": {
        "id": "BpiomCWDuc0z"
      },
      "execution_count": 61,
      "outputs": []
    },
    {
      "cell_type": "code",
      "source": [],
      "metadata": {
        "id": "f0536c5jwGeD"
      },
      "execution_count": null,
      "outputs": []
    }
  ]
}